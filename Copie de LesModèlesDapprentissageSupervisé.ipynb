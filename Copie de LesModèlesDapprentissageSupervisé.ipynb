{
 "cells": [
  {
   "cell_type": "markdown",
   "metadata": {
    "id": "UeHLRW7Gmt_l"
   },
   "source": [
    "# Importation des modules "
   ]
  },
  {
   "cell_type": "code",
   "execution_count": 1,
   "metadata": {
    "id": "Trq3BVrwzif7"
   },
   "outputs": [],
   "source": [
    "import pandas as pd\n",
    "import numpy as np  \n",
    "import matplotlib.pyplot as plt\n",
    "import seaborn as sns \n",
    "from sklearn.model_selection import train_test_split\n",
    "from sklearn.metrics import confusion_matrix,accuracy_score\n",
    "from sklearn.datasets import make_regression\n",
    "from sklearn.linear_model import LinearRegression\n",
    "from sklearn.inspection import permutation_importance\n",
    "from sklearn.ensemble import RandomForestClassifier\n",
    "from sklearn.naive_bayes import GaussianNB\n",
    "from sklearn.svm import SVC\n",
    "from sklearn.neighbors import KNeighborsClassifier\n",
    "import statsmodels.api as sm\n",
    "import sklearn.metrics as metrics\n",
    "from sklearn.metrics import classification_report\n",
    "from math import *  \n",
    "from sklearn.metrics import classification_report, confusion_matrix\n",
    "from sklearn.model_selection import GridSearchCV\n",
    "import time\n",
    "from sklearn.linear_model import SGDClassifier\n",
    "from sklearn.model_selection import KFold \n",
    "from sklearn.model_selection import cross_val_predict"
   ]
  },
  {
   "cell_type": "markdown",
   "metadata": {
    "id": "gTxTQ5nlnAjU"
   },
   "source": [
    "# Imporation du dataset "
   ]
  },
  {
   "cell_type": "code",
   "execution_count": null,
   "metadata": {
    "id": "Clm3CS2HtUz8"
   },
   "outputs": [],
   "source": [
    "#df1=pd.read_csv(\"/content/drive/MyDrive/dataset/datasetfinal.csv\")\n",
    "#df1=df1.sample(frac=1).reset_index(drop=True)\n",
    "df1=pd.read_csv(\"/content/drive/MyDrive/code source/Copie de datasetfinal.csv\")\n",
    "df1=df1.sample(frac=1).reset_index(drop=True)"
   ]
  },
  {
   "cell_type": "markdown",
   "metadata": {
    "id": "1rCy0XXknHSF"
   },
   "source": [
    "# Définition de l'ensemble teste et l'ensemble d'entrainement "
   ]
  },
  {
   "cell_type": "code",
   "execution_count": null,
   "metadata": {
    "id": "1hejl6rxrWaQ"
   },
   "outputs": [],
   "source": [
    "X = df1.iloc[:, :-1]\n",
    "y = df1.iloc[:, -1]\n",
    "k = 5\n",
    "kf = KFold(n_splits=k, random_state=None)"
   ]
  },
  {
   "cell_type": "markdown",
   "metadata": {
    "id": "lHJ-sbFqwsbO"
   },
   "source": [
    "# **Modèle SVM**"
   ]
  },
  {
   "cell_type": "markdown",
   "metadata": {
    "id": "H0xFXlDXBBi9"
   },
   "source": [
    "## SVM Hyperparameter Tuning using GridSearchCV | ML"
   ]
  },
  {
   "cell_type": "markdown",
   "metadata": {
    "id": "FM_yqgYRBR49"
   },
   "source": [
    "https://www.geeksforgeeks.org/svm-hyperparameter-tuning-using-gridsearchcv-ml/?fbclid=IwAR3rCwviDBfVuTYX4mKxdiMr1e8Krmpb4qEdTuv_gieSdoH5VblSL5kFalE"
   ]
  },
  {
   "cell_type": "code",
   "execution_count": null,
   "metadata": {
    "id": "nww7D9UlGDoc"
   },
   "outputs": [],
   "source": [
    "x = df1.iloc[:, :-1]\n",
    "y = df1.iloc[:, -1]\n",
    "svm_x_train, svm_x_test, svm_y_train, svm_y_test = train_test_split(x, y, test_size=0.90, random_state=0)"
   ]
  },
  {
   "cell_type": "code",
   "execution_count": null,
   "metadata": {
    "id": "REvuBVqeDCHz"
   },
   "outputs": [],
   "source": [
    "param_grid = {'C': [0.1,1, 10, 100], 'gamma': [1,0.1,0.01,0.001],'kernel': ['rbf', 'poly', 'sigmoid']}"
   ]
  },
  {
   "cell_type": "code",
   "execution_count": null,
   "metadata": {
    "colab": {
     "base_uri": "https://localhost:8080/"
    },
    "id": "-z8kq282DElU",
    "outputId": "5ee33669-7015-436c-9b51-df04d7cb76f3"
   },
   "outputs": [
    {
     "name": "stdout",
     "output_type": "stream",
     "text": [
      "Fitting 5 folds for each of 48 candidates, totalling 240 fits\n",
      "[CV] END .........................C=0.1, gamma=1, kernel=rbf; total time=   0.8s\n",
      "[CV] END .........................C=0.1, gamma=1, kernel=rbf; total time=   0.8s\n",
      "[CV] END .........................C=0.1, gamma=1, kernel=rbf; total time=   0.8s\n",
      "[CV] END .........................C=0.1, gamma=1, kernel=rbf; total time=   0.8s\n",
      "[CV] END .........................C=0.1, gamma=1, kernel=rbf; total time=   0.8s\n",
      "[CV] END ........................C=0.1, gamma=1, kernel=poly; total time=   0.3s\n",
      "[CV] END ........................C=0.1, gamma=1, kernel=poly; total time=   0.3s\n",
      "[CV] END ........................C=0.1, gamma=1, kernel=poly; total time=   0.3s\n",
      "[CV] END ........................C=0.1, gamma=1, kernel=poly; total time=   0.3s\n",
      "[CV] END ........................C=0.1, gamma=1, kernel=poly; total time=   0.3s\n",
      "[CV] END .....................C=0.1, gamma=1, kernel=sigmoid; total time=   2.9s\n",
      "[CV] END .....................C=0.1, gamma=1, kernel=sigmoid; total time=   2.9s\n",
      "[CV] END .....................C=0.1, gamma=1, kernel=sigmoid; total time=   2.9s\n",
      "[CV] END .....................C=0.1, gamma=1, kernel=sigmoid; total time=   2.9s\n",
      "[CV] END .....................C=0.1, gamma=1, kernel=sigmoid; total time=   2.9s\n",
      "[CV] END .......................C=0.1, gamma=0.1, kernel=rbf; total time=   1.3s\n",
      "[CV] END .......................C=0.1, gamma=0.1, kernel=rbf; total time=   1.3s\n",
      "[CV] END .......................C=0.1, gamma=0.1, kernel=rbf; total time=   1.3s\n",
      "[CV] END .......................C=0.1, gamma=0.1, kernel=rbf; total time=   1.3s\n",
      "[CV] END .......................C=0.1, gamma=0.1, kernel=rbf; total time=   1.3s\n",
      "[CV] END ......................C=0.1, gamma=0.1, kernel=poly; total time=   1.2s\n",
      "[CV] END ......................C=0.1, gamma=0.1, kernel=poly; total time=   1.2s\n",
      "[CV] END ......................C=0.1, gamma=0.1, kernel=poly; total time=   1.2s\n",
      "[CV] END ......................C=0.1, gamma=0.1, kernel=poly; total time=   1.2s\n",
      "[CV] END ......................C=0.1, gamma=0.1, kernel=poly; total time=   1.2s\n",
      "[CV] END ...................C=0.1, gamma=0.1, kernel=sigmoid; total time=   1.8s\n",
      "[CV] END ...................C=0.1, gamma=0.1, kernel=sigmoid; total time=   1.8s\n",
      "[CV] END ...................C=0.1, gamma=0.1, kernel=sigmoid; total time=   1.8s\n",
      "[CV] END ...................C=0.1, gamma=0.1, kernel=sigmoid; total time=   1.8s\n",
      "[CV] END ...................C=0.1, gamma=0.1, kernel=sigmoid; total time=   1.8s\n",
      "[CV] END ......................C=0.1, gamma=0.01, kernel=rbf; total time=   2.0s\n",
      "[CV] END ......................C=0.1, gamma=0.01, kernel=rbf; total time=   2.0s\n",
      "[CV] END ......................C=0.1, gamma=0.01, kernel=rbf; total time=   2.0s\n",
      "[CV] END ......................C=0.1, gamma=0.01, kernel=rbf; total time=   2.0s\n",
      "[CV] END ......................C=0.1, gamma=0.01, kernel=rbf; total time=   2.0s\n",
      "[CV] END .....................C=0.1, gamma=0.01, kernel=poly; total time=   1.2s\n",
      "[CV] END .....................C=0.1, gamma=0.01, kernel=poly; total time=   1.2s\n",
      "[CV] END .....................C=0.1, gamma=0.01, kernel=poly; total time=   1.2s\n",
      "[CV] END .....................C=0.1, gamma=0.01, kernel=poly; total time=   1.2s\n",
      "[CV] END .....................C=0.1, gamma=0.01, kernel=poly; total time=   1.2s\n",
      "[CV] END ..................C=0.1, gamma=0.01, kernel=sigmoid; total time=   2.1s\n",
      "[CV] END ..................C=0.1, gamma=0.01, kernel=sigmoid; total time=   2.1s\n",
      "[CV] END ..................C=0.1, gamma=0.01, kernel=sigmoid; total time=   2.1s\n",
      "[CV] END ..................C=0.1, gamma=0.01, kernel=sigmoid; total time=   2.1s\n",
      "[CV] END ..................C=0.1, gamma=0.01, kernel=sigmoid; total time=   2.1s\n",
      "[CV] END .....................C=0.1, gamma=0.001, kernel=rbf; total time=   2.0s\n",
      "[CV] END .....................C=0.1, gamma=0.001, kernel=rbf; total time=   2.0s\n",
      "[CV] END .....................C=0.1, gamma=0.001, kernel=rbf; total time=   2.0s\n",
      "[CV] END .....................C=0.1, gamma=0.001, kernel=rbf; total time=   2.0s\n",
      "[CV] END .....................C=0.1, gamma=0.001, kernel=rbf; total time=   2.1s\n",
      "[CV] END ....................C=0.1, gamma=0.001, kernel=poly; total time=   1.2s\n",
      "[CV] END ....................C=0.1, gamma=0.001, kernel=poly; total time=   1.2s\n",
      "[CV] END ....................C=0.1, gamma=0.001, kernel=poly; total time=   1.2s\n",
      "[CV] END ....................C=0.1, gamma=0.001, kernel=poly; total time=   1.2s\n",
      "[CV] END ....................C=0.1, gamma=0.001, kernel=poly; total time=   1.2s\n",
      "[CV] END .................C=0.1, gamma=0.001, kernel=sigmoid; total time=   2.1s\n",
      "[CV] END .................C=0.1, gamma=0.001, kernel=sigmoid; total time=   2.1s\n",
      "[CV] END .................C=0.1, gamma=0.001, kernel=sigmoid; total time=   2.1s\n",
      "[CV] END .................C=0.1, gamma=0.001, kernel=sigmoid; total time=   2.1s\n",
      "[CV] END .................C=0.1, gamma=0.001, kernel=sigmoid; total time=   2.1s\n",
      "[CV] END ...........................C=1, gamma=1, kernel=rbf; total time=   0.5s\n",
      "[CV] END ...........................C=1, gamma=1, kernel=rbf; total time=   0.5s\n",
      "[CV] END ...........................C=1, gamma=1, kernel=rbf; total time=   0.5s\n",
      "[CV] END ...........................C=1, gamma=1, kernel=rbf; total time=   0.5s\n",
      "[CV] END ...........................C=1, gamma=1, kernel=rbf; total time=   0.5s\n",
      "[CV] END ..........................C=1, gamma=1, kernel=poly; total time=   0.3s\n",
      "[CV] END ..........................C=1, gamma=1, kernel=poly; total time=   0.3s\n",
      "[CV] END ..........................C=1, gamma=1, kernel=poly; total time=   0.3s\n",
      "[CV] END ..........................C=1, gamma=1, kernel=poly; total time=   0.3s\n",
      "[CV] END ..........................C=1, gamma=1, kernel=poly; total time=   0.3s\n",
      "[CV] END .......................C=1, gamma=1, kernel=sigmoid; total time=   2.1s\n",
      "[CV] END .......................C=1, gamma=1, kernel=sigmoid; total time=   2.0s\n",
      "[CV] END .......................C=1, gamma=1, kernel=sigmoid; total time=   2.0s\n",
      "[CV] END .......................C=1, gamma=1, kernel=sigmoid; total time=   2.0s\n",
      "[CV] END .......................C=1, gamma=1, kernel=sigmoid; total time=   2.0s\n",
      "[CV] END .........................C=1, gamma=0.1, kernel=rbf; total time=   0.8s\n",
      "[CV] END .........................C=1, gamma=0.1, kernel=rbf; total time=   0.8s\n",
      "[CV] END .........................C=1, gamma=0.1, kernel=rbf; total time=   0.8s\n",
      "[CV] END .........................C=1, gamma=0.1, kernel=rbf; total time=   0.8s\n",
      "[CV] END .........................C=1, gamma=0.1, kernel=rbf; total time=   0.8s\n",
      "[CV] END ........................C=1, gamma=0.1, kernel=poly; total time=   0.7s\n",
      "[CV] END ........................C=1, gamma=0.1, kernel=poly; total time=   0.7s\n",
      "[CV] END ........................C=1, gamma=0.1, kernel=poly; total time=   0.7s\n",
      "[CV] END ........................C=1, gamma=0.1, kernel=poly; total time=   0.8s\n",
      "[CV] END ........................C=1, gamma=0.1, kernel=poly; total time=   0.8s\n",
      "[CV] END .....................C=1, gamma=0.1, kernel=sigmoid; total time=   1.0s\n",
      "[CV] END .....................C=1, gamma=0.1, kernel=sigmoid; total time=   1.0s\n",
      "[CV] END .....................C=1, gamma=0.1, kernel=sigmoid; total time=   1.1s\n",
      "[CV] END .....................C=1, gamma=0.1, kernel=sigmoid; total time=   1.0s\n",
      "[CV] END .....................C=1, gamma=0.1, kernel=sigmoid; total time=   1.1s\n",
      "[CV] END ........................C=1, gamma=0.01, kernel=rbf; total time=   1.3s\n",
      "[CV] END ........................C=1, gamma=0.01, kernel=rbf; total time=   1.3s\n",
      "[CV] END ........................C=1, gamma=0.01, kernel=rbf; total time=   1.3s\n",
      "[CV] END ........................C=1, gamma=0.01, kernel=rbf; total time=   1.2s\n",
      "[CV] END ........................C=1, gamma=0.01, kernel=rbf; total time=   1.3s\n",
      "[CV] END .......................C=1, gamma=0.01, kernel=poly; total time=   1.2s\n",
      "[CV] END .......................C=1, gamma=0.01, kernel=poly; total time=   1.2s\n",
      "[CV] END .......................C=1, gamma=0.01, kernel=poly; total time=   1.2s\n",
      "[CV] END .......................C=1, gamma=0.01, kernel=poly; total time=   1.2s\n",
      "[CV] END .......................C=1, gamma=0.01, kernel=poly; total time=   1.2s\n",
      "[CV] END ....................C=1, gamma=0.01, kernel=sigmoid; total time=   1.5s\n",
      "[CV] END ....................C=1, gamma=0.01, kernel=sigmoid; total time=   1.5s\n",
      "[CV] END ....................C=1, gamma=0.01, kernel=sigmoid; total time=   1.5s\n",
      "[CV] END ....................C=1, gamma=0.01, kernel=sigmoid; total time=   1.5s\n",
      "[CV] END ....................C=1, gamma=0.01, kernel=sigmoid; total time=   1.5s\n",
      "[CV] END .......................C=1, gamma=0.001, kernel=rbf; total time=   2.1s\n",
      "[CV] END .......................C=1, gamma=0.001, kernel=rbf; total time=   2.0s\n",
      "[CV] END .......................C=1, gamma=0.001, kernel=rbf; total time=   2.0s\n",
      "[CV] END .......................C=1, gamma=0.001, kernel=rbf; total time=   2.0s\n",
      "[CV] END .......................C=1, gamma=0.001, kernel=rbf; total time=   2.1s\n",
      "[CV] END ......................C=1, gamma=0.001, kernel=poly; total time=   1.2s\n",
      "[CV] END ......................C=1, gamma=0.001, kernel=poly; total time=   1.2s\n",
      "[CV] END ......................C=1, gamma=0.001, kernel=poly; total time=   1.2s\n",
      "[CV] END ......................C=1, gamma=0.001, kernel=poly; total time=   1.2s\n",
      "[CV] END ......................C=1, gamma=0.001, kernel=poly; total time=   1.2s\n",
      "[CV] END ...................C=1, gamma=0.001, kernel=sigmoid; total time=   2.1s\n",
      "[CV] END ...................C=1, gamma=0.001, kernel=sigmoid; total time=   2.1s\n",
      "[CV] END ...................C=1, gamma=0.001, kernel=sigmoid; total time=   2.1s\n",
      "[CV] END ...................C=1, gamma=0.001, kernel=sigmoid; total time=   2.1s\n",
      "[CV] END ...................C=1, gamma=0.001, kernel=sigmoid; total time=   2.1s\n",
      "[CV] END ..........................C=10, gamma=1, kernel=rbf; total time=   0.3s\n",
      "[CV] END ..........................C=10, gamma=1, kernel=rbf; total time=   0.3s\n",
      "[CV] END ..........................C=10, gamma=1, kernel=rbf; total time=   0.3s\n",
      "[CV] END ..........................C=10, gamma=1, kernel=rbf; total time=   0.3s\n",
      "[CV] END ..........................C=10, gamma=1, kernel=rbf; total time=   0.3s\n",
      "[CV] END .........................C=10, gamma=1, kernel=poly; total time=   0.2s\n",
      "[CV] END .........................C=10, gamma=1, kernel=poly; total time=   0.3s\n",
      "[CV] END .........................C=10, gamma=1, kernel=poly; total time=   0.3s\n",
      "[CV] END .........................C=10, gamma=1, kernel=poly; total time=   0.3s\n",
      "[CV] END .........................C=10, gamma=1, kernel=poly; total time=   0.3s\n",
      "[CV] END ......................C=10, gamma=1, kernel=sigmoid; total time=   1.6s\n",
      "[CV] END ......................C=10, gamma=1, kernel=sigmoid; total time=   1.6s\n",
      "[CV] END ......................C=10, gamma=1, kernel=sigmoid; total time=   1.6s\n",
      "[CV] END ......................C=10, gamma=1, kernel=sigmoid; total time=   1.6s\n",
      "[CV] END ......................C=10, gamma=1, kernel=sigmoid; total time=   1.5s\n",
      "[CV] END ........................C=10, gamma=0.1, kernel=rbf; total time=   0.6s\n",
      "[CV] END ........................C=10, gamma=0.1, kernel=rbf; total time=   0.6s\n",
      "[CV] END ........................C=10, gamma=0.1, kernel=rbf; total time=   0.6s\n",
      "[CV] END ........................C=10, gamma=0.1, kernel=rbf; total time=   0.6s\n",
      "[CV] END ........................C=10, gamma=0.1, kernel=rbf; total time=   0.6s\n",
      "[CV] END .......................C=10, gamma=0.1, kernel=poly; total time=   0.4s\n",
      "[CV] END .......................C=10, gamma=0.1, kernel=poly; total time=   0.5s\n",
      "[CV] END .......................C=10, gamma=0.1, kernel=poly; total time=   0.5s\n",
      "[CV] END .......................C=10, gamma=0.1, kernel=poly; total time=   0.5s\n",
      "[CV] END .......................C=10, gamma=0.1, kernel=poly; total time=   0.4s\n",
      "[CV] END ....................C=10, gamma=0.1, kernel=sigmoid; total time=   0.7s\n",
      "[CV] END ....................C=10, gamma=0.1, kernel=sigmoid; total time=   0.8s\n",
      "[CV] END ....................C=10, gamma=0.1, kernel=sigmoid; total time=   0.7s\n",
      "[CV] END ....................C=10, gamma=0.1, kernel=sigmoid; total time=   0.7s\n",
      "[CV] END ....................C=10, gamma=0.1, kernel=sigmoid; total time=   0.7s\n",
      "[CV] END .......................C=10, gamma=0.01, kernel=rbf; total time=   0.8s\n",
      "[CV] END .......................C=10, gamma=0.01, kernel=rbf; total time=   0.8s\n",
      "[CV] END .......................C=10, gamma=0.01, kernel=rbf; total time=   0.8s\n",
      "[CV] END .......................C=10, gamma=0.01, kernel=rbf; total time=   0.8s\n",
      "[CV] END .......................C=10, gamma=0.01, kernel=rbf; total time=   0.8s\n",
      "[CV] END ......................C=10, gamma=0.01, kernel=poly; total time=   1.2s\n",
      "[CV] END ......................C=10, gamma=0.01, kernel=poly; total time=   1.2s\n",
      "[CV] END ......................C=10, gamma=0.01, kernel=poly; total time=   1.2s\n",
      "[CV] END ......................C=10, gamma=0.01, kernel=poly; total time=   1.2s\n",
      "[CV] END ......................C=10, gamma=0.01, kernel=poly; total time=   1.2s\n",
      "[CV] END ...................C=10, gamma=0.01, kernel=sigmoid; total time=   0.9s\n",
      "[CV] END ...................C=10, gamma=0.01, kernel=sigmoid; total time=   0.9s\n",
      "[CV] END ...................C=10, gamma=0.01, kernel=sigmoid; total time=   0.9s\n",
      "[CV] END ...................C=10, gamma=0.01, kernel=sigmoid; total time=   0.9s\n",
      "[CV] END ...................C=10, gamma=0.01, kernel=sigmoid; total time=   0.9s\n",
      "[CV] END ......................C=10, gamma=0.001, kernel=rbf; total time=   1.3s\n",
      "[CV] END ......................C=10, gamma=0.001, kernel=rbf; total time=   1.3s\n",
      "[CV] END ......................C=10, gamma=0.001, kernel=rbf; total time=   1.3s\n",
      "[CV] END ......................C=10, gamma=0.001, kernel=rbf; total time=   1.2s\n",
      "[CV] END ......................C=10, gamma=0.001, kernel=rbf; total time=   1.3s\n",
      "[CV] END .....................C=10, gamma=0.001, kernel=poly; total time=   1.2s\n",
      "[CV] END .....................C=10, gamma=0.001, kernel=poly; total time=   1.2s\n",
      "[CV] END .....................C=10, gamma=0.001, kernel=poly; total time=   1.2s\n",
      "[CV] END .....................C=10, gamma=0.001, kernel=poly; total time=   1.2s\n",
      "[CV] END .....................C=10, gamma=0.001, kernel=poly; total time=   1.2s\n",
      "[CV] END ..................C=10, gamma=0.001, kernel=sigmoid; total time=   1.5s\n",
      "[CV] END ..................C=10, gamma=0.001, kernel=sigmoid; total time=   1.5s\n",
      "[CV] END ..................C=10, gamma=0.001, kernel=sigmoid; total time=   1.5s\n",
      "[CV] END ..................C=10, gamma=0.001, kernel=sigmoid; total time=   1.5s\n",
      "[CV] END ..................C=10, gamma=0.001, kernel=sigmoid; total time=   1.5s\n",
      "[CV] END .........................C=100, gamma=1, kernel=rbf; total time=   0.3s\n",
      "[CV] END .........................C=100, gamma=1, kernel=rbf; total time=   0.3s\n",
      "[CV] END .........................C=100, gamma=1, kernel=rbf; total time=   0.3s\n",
      "[CV] END .........................C=100, gamma=1, kernel=rbf; total time=   0.3s\n",
      "[CV] END .........................C=100, gamma=1, kernel=rbf; total time=   0.3s\n",
      "[CV] END ........................C=100, gamma=1, kernel=poly; total time=   0.3s\n",
      "[CV] END ........................C=100, gamma=1, kernel=poly; total time=   0.4s\n",
      "[CV] END ........................C=100, gamma=1, kernel=poly; total time=   0.3s\n",
      "[CV] END ........................C=100, gamma=1, kernel=poly; total time=   0.3s\n",
      "[CV] END ........................C=100, gamma=1, kernel=poly; total time=   0.3s\n",
      "[CV] END .....................C=100, gamma=1, kernel=sigmoid; total time=   1.4s\n",
      "[CV] END .....................C=100, gamma=1, kernel=sigmoid; total time=   1.5s\n",
      "[CV] END .....................C=100, gamma=1, kernel=sigmoid; total time=   1.5s\n",
      "[CV] END .....................C=100, gamma=1, kernel=sigmoid; total time=   1.5s\n",
      "[CV] END .....................C=100, gamma=1, kernel=sigmoid; total time=   1.4s\n",
      "[CV] END .......................C=100, gamma=0.1, kernel=rbf; total time=   0.4s\n",
      "[CV] END .......................C=100, gamma=0.1, kernel=rbf; total time=   0.4s\n",
      "[CV] END .......................C=100, gamma=0.1, kernel=rbf; total time=   0.4s\n",
      "[CV] END .......................C=100, gamma=0.1, kernel=rbf; total time=   0.4s\n",
      "[CV] END .......................C=100, gamma=0.1, kernel=rbf; total time=   0.5s\n",
      "[CV] END ......................C=100, gamma=0.1, kernel=poly; total time=   0.3s\n",
      "[CV] END ......................C=100, gamma=0.1, kernel=poly; total time=   0.3s\n",
      "[CV] END ......................C=100, gamma=0.1, kernel=poly; total time=   0.3s\n",
      "[CV] END ......................C=100, gamma=0.1, kernel=poly; total time=   0.3s\n",
      "[CV] END ......................C=100, gamma=0.1, kernel=poly; total time=   0.3s\n",
      "[CV] END ...................C=100, gamma=0.1, kernel=sigmoid; total time=   0.6s\n",
      "[CV] END ...................C=100, gamma=0.1, kernel=sigmoid; total time=   0.6s\n",
      "[CV] END ...................C=100, gamma=0.1, kernel=sigmoid; total time=   0.6s\n",
      "[CV] END ...................C=100, gamma=0.1, kernel=sigmoid; total time=   0.6s\n",
      "[CV] END ...................C=100, gamma=0.1, kernel=sigmoid; total time=   0.6s\n",
      "[CV] END ......................C=100, gamma=0.01, kernel=rbf; total time=   0.6s\n",
      "[CV] END ......................C=100, gamma=0.01, kernel=rbf; total time=   0.6s\n",
      "[CV] END ......................C=100, gamma=0.01, kernel=rbf; total time=   0.6s\n",
      "[CV] END ......................C=100, gamma=0.01, kernel=rbf; total time=   0.6s\n",
      "[CV] END ......................C=100, gamma=0.01, kernel=rbf; total time=   0.6s\n",
      "[CV] END .....................C=100, gamma=0.01, kernel=poly; total time=   1.2s\n",
      "[CV] END .....................C=100, gamma=0.01, kernel=poly; total time=   1.2s\n",
      "[CV] END .....................C=100, gamma=0.01, kernel=poly; total time=   1.2s\n",
      "[CV] END .....................C=100, gamma=0.01, kernel=poly; total time=   1.2s\n",
      "[CV] END .....................C=100, gamma=0.01, kernel=poly; total time=   1.2s\n",
      "[CV] END ..................C=100, gamma=0.01, kernel=sigmoid; total time=   0.6s\n",
      "[CV] END ..................C=100, gamma=0.01, kernel=sigmoid; total time=   0.6s\n",
      "[CV] END ..................C=100, gamma=0.01, kernel=sigmoid; total time=   0.6s\n",
      "[CV] END ..................C=100, gamma=0.01, kernel=sigmoid; total time=   0.6s\n",
      "[CV] END ..................C=100, gamma=0.01, kernel=sigmoid; total time=   0.6s\n",
      "[CV] END .....................C=100, gamma=0.001, kernel=rbf; total time=   0.8s\n",
      "[CV] END .....................C=100, gamma=0.001, kernel=rbf; total time=   0.8s\n",
      "[CV] END .....................C=100, gamma=0.001, kernel=rbf; total time=   0.8s\n",
      "[CV] END .....................C=100, gamma=0.001, kernel=rbf; total time=   0.8s\n",
      "[CV] END .....................C=100, gamma=0.001, kernel=rbf; total time=   0.8s\n",
      "[CV] END ....................C=100, gamma=0.001, kernel=poly; total time=   1.2s\n",
      "[CV] END ....................C=100, gamma=0.001, kernel=poly; total time=   1.2s\n",
      "[CV] END ....................C=100, gamma=0.001, kernel=poly; total time=   1.2s\n",
      "[CV] END ....................C=100, gamma=0.001, kernel=poly; total time=   1.2s\n",
      "[CV] END ....................C=100, gamma=0.001, kernel=poly; total time=   1.2s\n",
      "[CV] END .................C=100, gamma=0.001, kernel=sigmoid; total time=   0.9s\n",
      "[CV] END .................C=100, gamma=0.001, kernel=sigmoid; total time=   0.9s\n",
      "[CV] END .................C=100, gamma=0.001, kernel=sigmoid; total time=   0.9s\n",
      "[CV] END .................C=100, gamma=0.001, kernel=sigmoid; total time=   0.9s\n",
      "[CV] END .................C=100, gamma=0.001, kernel=sigmoid; total time=   0.9s\n"
     ]
    },
    {
     "data": {
      "text/plain": [
       "GridSearchCV(estimator=SVC(),\n",
       "             param_grid={'C': [0.1, 1, 10, 100], 'gamma': [1, 0.1, 0.01, 0.001],\n",
       "                         'kernel': ['rbf', 'poly', 'sigmoid']},\n",
       "             verbose=2)"
      ]
     },
     "execution_count": 13,
     "metadata": {},
     "output_type": "execute_result"
    }
   ],
   "source": [
    "grid = GridSearchCV(SVC(),param_grid,refit=True,verbose=2)\n",
    "grid.fit(svm_x_train,svm_y_train)"
   ]
  },
  {
   "cell_type": "code",
   "execution_count": null,
   "metadata": {
    "colab": {
     "base_uri": "https://localhost:8080/"
    },
    "id": "gs3ygsVfJYiZ",
    "outputId": "4fc2edba-166f-4410-817c-c7d8c733f2fe"
   },
   "outputs": [
    {
     "name": "stdout",
     "output_type": "stream",
     "text": [
      "SVC(C=100, gamma=1, kernel='poly')\n"
     ]
    }
   ],
   "source": [
    "print(grid.best_estimator_)"
   ]
  },
  {
   "cell_type": "markdown",
   "metadata": {
    "id": "6kaJZk6x5nak"
   },
   "source": [
    "https://scikit-learn.org/stable/modules/generated/sklearn.datasets.make_regression.html"
   ]
  },
  {
   "cell_type": "code",
   "execution_count": null,
   "metadata": {
    "colab": {
     "base_uri": "https://localhost:8080/",
     "height": 282
    },
    "id": "l8UiUlwaxMBY",
    "outputId": "b065a17b-d01f-42b8-dd33-0dfd520ec9b0"
   },
   "outputs": [
    {
     "data": {
      "text/plain": [
       "<matplotlib.collections.PathCollection at 0x7f6d96638d90>"
      ]
     },
     "execution_count": 15,
     "metadata": {},
     "output_type": "execute_result"
    },
    {
     "data": {
      "image/png": "[encoded data removed]",
      "text/plain": [
       "<Figure size 432x288 with 1 Axes>"
      ]
     },
     "metadata": {
      "needs_background": "light"
     },
     "output_type": "display_data"
    }
   ],
   "source": [
    "x, y= make_regression(n_samples=100, n_features=1, noise=10)\n",
    "plt.scatter(x,y, c=y)"
   ]
  },
  {
   "cell_type": "code",
   "execution_count": null,
   "metadata": {
    "colab": {
     "base_uri": "https://localhost:8080/",
     "height": 298
    },
    "id": "3GuPOSUUwIfX",
    "outputId": "f58420c8-17c0-4b3c-899c-248168a29a93"
   },
   "outputs": [
    {
     "data": {
      "text/plain": [
       "Text(0.5, 1.0, 'Test set')"
      ]
     },
     "execution_count": 16,
     "metadata": {},
     "output_type": "execute_result"
    },
    {
     "data": {
      "image/png": "[encoded data removed]",
      "text/plain": [
       "<Figure size 864x288 with 2 Axes>"
      ]
     },
     "metadata": {
      "needs_background": "light"
     },
     "output_type": "display_data"
    }
   ],
   "source": [
    "#Analyse des données\n",
    "plt.figure(figsize=(12, 4))\n",
    "plt.subplot(121)\n",
    "svm_x_train, svm_y_train= make_regression(n_samples=200, n_features=1, noise=10)\n",
    "svm_x_test, svm_y_test= make_regression(n_samples=200, n_features=1, noise=10)\n",
    "plt.scatter(svm_x_train, svm_y_train ,c=svm_y_train, alpha=0.8)\n",
    "plt.title('Train set')\n",
    "plt.subplot(122)\n",
    "plt.scatter(svm_x_test, svm_y_test,c=svm_y_test, alpha=0.8)\n",
    "plt.title('Test set')"
   ]
  },
  {
   "cell_type": "markdown",
   "metadata": {
    "id": "WbBmWsNp6LXI"
   },
   "source": [
    "https://scikit-learn.org/stable/modules/generated/sklearn.svm.SVC.html"
   ]
  },
  {
   "cell_type": "code",
   "execution_count": null,
   "metadata": {
    "colab": {
     "base_uri": "https://localhost:8080/"
    },
    "executionInfo": {
     "elapsed": 162687,
     "status": "ok",
     "timestamp": 1656108409680,
     "user": {
      "displayName": "Riadh Besseri",
      "userId": "06466589740049872170"
     },
     "user_tz": -60
    },
    "id": "9dQXdjgXKwH0",
    "outputId": "88573ea2-a35b-4983-9c25-53c4f55ef1fd"
   },
   "outputs": [
    {
     "name": "stdout",
     "output_type": "stream",
     "text": [
      "['email' 'email' 'chat' ... 'email' 'facebook' 'facebook']\n",
      "la moyenne du temp du test : 2.693510913848877\n",
      "la moyenne du temp d entrainement : 28.733583402633666\n",
      "la moyenne d accuracy : 0.9726415094339622\n"
     ]
    }
   ],
   "source": [
    "\n",
    "SVM_model = SVC(C=100, gamma=1, kernel='poly')\n",
    "\n",
    "acc_score = []\n",
    "temp_test_score=[]\n",
    "temp_entr_score=[]\n",
    " \n",
    "for train_index , test_index in kf.split(X):\n",
    "    X_train , X_test = X.iloc[train_index,:],X.iloc[test_index,:]\n",
    "    y_train , y_test = y[train_index] , y[test_index]\n",
    "\n",
    "    start = time.time() \n",
    "    SVM_model.fit(X_train,y_train)\n",
    "    end = time.time()\n",
    "    temp_entr_score.append(end - start)\n",
    "\n",
    "    start = time.time()\n",
    "    pred_values1 = SVM_model.predict(X_test)\n",
    "    end = time.time()\n",
    "    temp_test_score.append(end - start)\n",
    "\n",
    "    acc = accuracy_score(pred_values1 , y_test)\n",
    "    acc_score.append(acc)\n",
    "\n",
    "report = cross_val_predict(SVM_model,X_test, y_test)\n",
    "print(report)\n",
    "     \n",
    "avg_acc_score = sum(acc_score)/k\n",
    "avg_tt_score = sum(temp_entr_score)/k\n",
    "avg_tes_score = sum(temp_test_score)/k\n",
    "\n",
    "print('la moyenne du temp du test :',avg_tes_score)\n",
    "print('la moyenne du temp d entrainement :',avg_tt_score)\n",
    "print('la moyenne d accuracy : {}'.format(avg_acc_score))"
   ]
  },
  {
   "cell_type": "code",
   "execution_count": null,
   "metadata": {
    "colab": {
     "base_uri": "https://localhost:8080/"
    },
    "executionInfo": {
     "elapsed": 648,
     "status": "ok",
     "timestamp": 1656108436211,
     "user": {
      "displayName": "Riadh Besseri",
      "userId": "06466589740049872170"
     },
     "user_tz": -60
    },
    "id": "PVQA8mNE0aF2",
    "outputId": "3f71c366-8fdb-41fb-8ba1-0067ed351b46"
   },
   "outputs": [
    {
     "name": "stdout",
     "output_type": "stream",
     "text": [
      "              precision    recall  f1-score   support\n",
      "\n",
      "      WebRTC       0.99      0.98      0.98      1654\n",
      "        chat       0.92      0.96      0.94      1337\n",
      "       email       0.98      0.95      0.97      2376\n",
      "    facebook       0.94      0.99      0.96      2167\n",
      "       skype       0.99      0.95      0.97      1750\n",
      "     youtube       0.99      0.98      0.98      1740\n",
      "\n",
      "    accuracy                           0.97     11024\n",
      "   macro avg       0.97      0.97      0.97     11024\n",
      "weighted avg       0.97      0.97      0.97     11024\n",
      "\n"
     ]
    }
   ],
   "source": [
    "print(classification_report(y_test, report))"
   ]
  },
  {
   "cell_type": "code",
   "execution_count": null,
   "metadata": {
    "colab": {
     "base_uri": "https://localhost:8080/",
     "height": 279
    },
    "executionInfo": {
     "elapsed": 1011,
     "status": "ok",
     "timestamp": 1656108540678,
     "user": {
      "displayName": "Riadh Besseri",
      "userId": "06466589740049872170"
     },
     "user_tz": -60
    },
    "id": "hzQDIP5zOppL",
    "outputId": "3c0f0505-3a9e-496a-ec38-53e1838b8902"
   },
   "outputs": [
    {
     "data": {
      "image/png": "[encoded data removed]",
      "text/plain": [
       "<Figure size 432x288 with 2 Axes>"
      ]
     },
     "metadata": {
      "needs_background": "light"
     },
     "output_type": "display_data"
    }
   ],
   "source": [
    "data = {'y_Actual':    y_test, 'y_Predicted': report }\n",
    "df = pd.DataFrame(data, columns=['y_Actual','y_Predicted'])\n",
    "confusion_matrix = pd.crosstab(df['y_Actual'], df['y_Predicted'], rownames=['Actual'], colnames=['Predicted'], margins = True)\n",
    "sns.heatmap(confusion_matrix, annot=True)\n",
    "plt.show()"
   ]
  },
  {
   "cell_type": "markdown",
   "metadata": {
    "id": "QUPFmTkF2fEW"
   },
   "source": [
    "# **Modèle Random forest**"
   ]
  },
  {
   "cell_type": "markdown",
   "metadata": {
    "id": "s4T3Bh7Jvr_L"
   },
   "source": [
    "https://www.kaggle.com/code/funxexcel/p2-random-forest-tuning-gridsearchcv/notebook?fbclid=IwAR1N-FZXCb6staJ0AcVSMxIHP-t7Bvqwg3kZ6_IGSfc85OY9lNrfBmKZvVM"
   ]
  },
  {
   "cell_type": "code",
   "execution_count": null,
   "metadata": {
    "colab": {
     "base_uri": "https://localhost:8080/"
    },
    "id": "3IJT7UJTYj9o",
    "outputId": "64c25ad0-80cc-4061-fabb-b7e20f5294e9"
   },
   "outputs": [
    {
     "name": "stdout",
     "output_type": "stream",
     "text": [
      "{'n_estimators': [10, 30, 50, 80, 100], 'max_features': ['auto', 'sqrt'], 'min_samples_split': [2, 5], 'min_samples_leaf': [1, 2], 'bootstrap': [True, False]}\n"
     ]
    }
   ],
   "source": [
    "# classifieur Random Forest\n",
    "RF=RandomForestClassifier()\n",
    "# Nombre d’arbres dans la forêt aléatoire \n",
    "n_estimators = [10,30,50,80,100]\n",
    "# # Nombre de caracteristique à considérer à chaque split\n",
    "max_features = ['auto', 'sqrt']\n",
    "# Nombre minimal d’échantillons requis pour fractionner un nœud\n",
    "min_samples_split = [2, 5]\n",
    "# Nombre minimal d’échantillons requis à chaque nœud foliaire\n",
    "min_samples_leaf = [1, 2]\n",
    "# Méthode de sélection des échantillons pour la formation de chaque arbre\n",
    "bootstrap = [True, False]\n",
    "# Créer param grid\n",
    "param_grid = {'n_estimators': n_estimators,\n",
    "               'max_features': max_features,\n",
    "               'min_samples_split': min_samples_split,\n",
    "               'min_samples_leaf': min_samples_leaf,\n",
    "               'bootstrap': bootstrap}\n",
    "print(param_grid)"
   ]
  },
  {
   "cell_type": "code",
   "execution_count": null,
   "metadata": {
    "colab": {
     "base_uri": "https://localhost:8080/"
    },
    "id": "O6rvUJbAY3np",
    "outputId": "baf4c753-33f1-4feb-d454-931c1a11f75d"
   },
   "outputs": [
    {
     "name": "stdout",
     "output_type": "stream",
     "text": [
      "Fitting 3 folds for each of 80 candidates, totalling 240 fits\n"
     ]
    },
    {
     "data": {
      "text/plain": [
       "GridSearchCV(cv=3, estimator=RandomForestClassifier(), n_jobs=4,\n",
       "             param_grid={'bootstrap': [True, False],\n",
       "                         'max_features': ['auto', 'sqrt'],\n",
       "                         'min_samples_leaf': [1, 2],\n",
       "                         'min_samples_split': [2, 5],\n",
       "                         'n_estimators': [10, 30, 50, 80, 100]},\n",
       "             verbose=2)"
      ]
     },
     "execution_count": 66,
     "metadata": {},
     "output_type": "execute_result"
    }
   ],
   "source": [
    "from sklearn.model_selection import GridSearchCV\n",
    "rf_Grid = GridSearchCV(estimator = RF, param_grid = param_grid, cv = 3, verbose=2, n_jobs = 4)\n",
    "rf_Grid.fit(X_train, y_train)"
   ]
  },
  {
   "cell_type": "code",
   "execution_count": null,
   "metadata": {
    "colab": {
     "base_uri": "https://localhost:8080/"
    },
    "id": "-X6Ox8jZZYvc",
    "outputId": "4e46c498-1420-4464-c1ed-6ef97897b713"
   },
   "outputs": [
    {
     "data": {
      "text/plain": [
       "{'bootstrap': False,\n",
       " 'max_features': 'sqrt',\n",
       " 'min_samples_leaf': 1,\n",
       " 'min_samples_split': 5,\n",
       " 'n_estimators': 50}"
      ]
     },
     "execution_count": 67,
     "metadata": {},
     "output_type": "execute_result"
    }
   ],
   "source": [
    "rf_Grid.best_params_"
   ]
  },
  {
   "cell_type": "code",
   "execution_count": null,
   "metadata": {
    "colab": {
     "base_uri": "https://localhost:8080/"
    },
    "executionInfo": {
     "elapsed": 26586,
     "status": "ok",
     "timestamp": 1656108640150,
     "user": {
      "displayName": "Riadh Besseri",
      "userId": "06466589740049872170"
     },
     "user_tz": -60
    },
    "id": "fRyMtB_kYeS2",
    "outputId": "3f26f186-abd0-48b9-f138-9f511a00faa9"
   },
   "outputs": [
    {
     "name": "stdout",
     "output_type": "stream",
     "text": [
      "['email' 'email' 'chat' ... 'email' 'facebook' 'facebook']\n",
      "la moyenne du temp du test : 0.0860668659210205\n",
      "la moyenne du temp d entrainement : 4.371924924850464\n",
      "la moyenne d accuracy : 0.999365021770682\n"
     ]
    }
   ],
   "source": [
    "RF_model = RandomForestClassifier( n_estimators= 50,min_samples_split=5,min_samples_leaf=1,max_features='sqrt',bootstrap=False)\n",
    "\n",
    "acc_score = []\n",
    "temp_test_score=[]\n",
    "temp_entr_score=[]\n",
    " \n",
    "for train_index , test_index in kf.split(X):\n",
    "    X_train , X_test = X.iloc[train_index,:],X.iloc[test_index,:]\n",
    "    y_train , y_test = y[train_index] , y[test_index]\n",
    "\n",
    "    start = time.time() \n",
    "    RF_model.fit(X_train,y_train)\n",
    "    end = time.time()\n",
    "    temp_entr_score.append(end - start)\n",
    "\n",
    "    start = time.time()\n",
    "    pred_values2 = RF_model.predict(X_test)\n",
    "    end = time.time()\n",
    "    temp_test_score.append(end - start)\n",
    "\n",
    "    acc = accuracy_score(pred_values2 , y_test)\n",
    "    acc_score.append(acc)\n",
    "\n",
    "report = cross_val_predict(RF_model,X_test, y_test)\n",
    "print(report)\n",
    "     \n",
    "avg_acc_score = sum(acc_score)/k\n",
    "avg_tt_score = sum(temp_entr_score)/k\n",
    "avg_tes_score = sum(temp_test_score)/k\n",
    "\n",
    "print('la moyenne du temp du test :',avg_tes_score)\n",
    "print('la moyenne du temp d entrainement :',avg_tt_score)\n",
    "print('la moyenne d accuracy : {}'.format(avg_acc_score))"
   ]
  },
  {
   "cell_type": "code",
   "execution_count": null,
   "metadata": {
    "colab": {
     "base_uri": "https://localhost:8080/"
    },
    "executionInfo": {
     "elapsed": 1008,
     "status": "ok",
     "timestamp": 1656106298121,
     "user": {
      "displayName": "Riadh Besseri",
      "userId": "06466589740049872170"
     },
     "user_tz": -60
    },
    "id": "I39KYetL3QW6",
    "outputId": "d5a39f42-ead8-459f-d883-e98fb85b8cd4"
   },
   "outputs": [
    {
     "name": "stdout",
     "output_type": "stream",
     "text": [
      "              precision    recall  f1-score   support\n",
      "\n",
      "      WebRTC       1.00      1.00      1.00      1654\n",
      "        chat       0.98      1.00      0.99      1337\n",
      "       email       1.00      0.99      1.00      2376\n",
      "    facebook       1.00      1.00      1.00      2167\n",
      "       skype       1.00      0.99      1.00      1750\n",
      "     youtube       1.00      1.00      1.00      1740\n",
      "\n",
      "    accuracy                           1.00     11024\n",
      "   macro avg       1.00      1.00      1.00     11024\n",
      "weighted avg       1.00      1.00      1.00     11024\n",
      "\n"
     ]
    }
   ],
   "source": [
    "print(classification_report(y_test, report))"
   ]
  },
  {
   "cell_type": "code",
   "execution_count": null,
   "metadata": {
    "colab": {
     "base_uri": "https://localhost:8080/",
     "height": 279
    },
    "executionInfo": {
     "elapsed": 1590,
     "status": "ok",
     "timestamp": 1656106315238,
     "user": {
      "displayName": "Riadh Besseri",
      "userId": "06466589740049872170"
     },
     "user_tz": -60
    },
    "id": "SkbjbAMY3hOM",
    "outputId": "fca59468-ee8f-4552-b2ec-da50edaeb03d"
   },
   "outputs": [
    {
     "data": {
      "image/png": "[encoded data removed]",
      "text/plain": [
       "<Figure size 432x288 with 2 Axes>"
      ]
     },
     "metadata": {
      "needs_background": "light"
     },
     "output_type": "display_data"
    }
   ],
   "source": [
    "data = {'y_Actual':    y_test, 'y_Predicted': report }\n",
    "df = pd.DataFrame(data, columns=['y_Actual','y_Predicted'])\n",
    "confusion_matrix = pd.crosstab(df['y_Actual'], df['y_Predicted'], rownames=['Actual'], colnames=['Predicted'], margins = True)\n",
    "sns.heatmap(confusion_matrix, annot=True)\n",
    "plt.show()"
   ]
  },
  {
   "cell_type": "code",
   "execution_count": null,
   "metadata": {
    "colab": {
     "base_uri": "https://localhost:8080/"
    },
    "id": "7-b9vPrF324z",
    "outputId": "dd5b8ce6-3d29-4509-af5c-772729ac9866"
   },
   "outputs": [
    {
     "name": "stdout",
     "output_type": "stream",
     "text": [
      "['No.', 'Time', 'Source', 'Destination', 'Protocol', 'Length', 'source port', 'destination port', 'Pocket_duration', 'Packet_per_seconde', 'Packet_ducration_p_seconde']\n"
     ]
    }
   ],
   "source": [
    "# Import tools needed for visualization\n",
    "from sklearn.tree import export_graphviz\n",
    "import pydot\n",
    "df1.drop(['type'], axis = 1, inplace = True) \n",
    "feature_list =  df1.columns.to_list()\n",
    "print(feature_list)\n",
    "# Pull out one tree from the forest\n",
    "tree = RF_model.estimators_[5]\n",
    "# Import tools needed for visualization\n",
    "from sklearn.tree import export_graphviz\n",
    "import pydot\n",
    "# Pull out one tree from the forest\n",
    "tree = RF_model.estimators_[5]\n",
    "# Export the image to a dot file\n",
    "\n",
    "export_graphviz(tree, out_file = 'tree.dot', feature_names = feature_list, rounded = True, precision = 1)\n",
    "# Use dot file to create a graph\n",
    "(graph, ) = pydot.graph_from_dot_file('tree.dot')\n",
    "# Write graph to a png file\n",
    "graph.write_png('tree.png')"
   ]
  },
  {
   "cell_type": "code",
   "execution_count": null,
   "metadata": {
    "id": "BBxYE-z5qFiT"
   },
   "outputs": [],
   "source": [
    "df1.drop(['type'], axis = 1, inplace = True) "
   ]
  },
  {
   "cell_type": "code",
   "execution_count": null,
   "metadata": {
    "colab": {
     "base_uri": "https://localhost:8080/"
    },
    "executionInfo": {
     "elapsed": 268,
     "status": "ok",
     "timestamp": 1656106864563,
     "user": {
      "displayName": "Riadh Besseri",
      "userId": "06466589740049872170"
     },
     "user_tz": -60
    },
    "id": "cNyOR9Wl3wHx",
    "outputId": "516ce376-8325-408e-c367-356024d30092"
   },
   "outputs": [
    {
     "name": "stdout",
     "output_type": "stream",
     "text": [
      "Packet_per_seconde            0.223009\n",
      "Time                          0.219493\n",
      "Protocol                      0.156025\n",
      "source port                   0.123817\n",
      "destination port              0.109723\n",
      "No.                           0.091385\n",
      "Length                        0.062073\n",
      "Packet_ducration_p_seconde    0.010749\n",
      "Pocket_duration               0.003652\n",
      "Destination                   0.000037\n",
      "Source                        0.000036\n",
      "dtype: float64\n"
     ]
    }
   ],
   "source": [
    "rf_feature_list=list(df1.columns)\n",
    "rf_feature_importance=pd.Series(RF_model.feature_importances_,index=rf_feature_list).sort_values(ascending=False)\n",
    "print(rf_feature_importance)\n",
    "#-----------------------------------------------\n",
    "rf_importances = RF_model.feature_importances_\n",
    "# Sort the feature importance in descending order\n",
    "sorted_indices = np.argsort(rf_importances)[::-1]"
   ]
  },
  {
   "cell_type": "code",
   "execution_count": null,
   "metadata": {
    "colab": {
     "base_uri": "https://localhost:8080/",
     "height": 297
    },
    "executionInfo": {
     "elapsed": 295,
     "status": "ok",
     "timestamp": 1656106908425,
     "user": {
      "displayName": "Riadh Besseri",
      "userId": "06466589740049872170"
     },
     "user_tz": -60
    },
    "id": "Lybcn0-P37tx",
    "outputId": "2c3f1770-310f-4fef-cb9b-e0d38980d3fc"
   },
   "outputs": [
    {
     "data": {
      "image/png": "[encoded data removed]",
      "text/plain": [
       "<Figure size 432x288 with 1 Axes>"
      ]
     },
     "metadata": {
      "needs_background": "light"
     },
     "output_type": "display_data"
    }
   ],
   "source": [
    "import matplotlib.pyplot as plt\n",
    "plt.bar(range(X_train.shape[1]),rf_importances[sorted_indices], color=\"teal\",align='center')\n",
    "plt.xticks(range(X_train.shape[1]), X_train.columns[sorted_indices], rotation=90)\n",
    "plt.tight_layout()\n",
    "plt.show()"
   ]
  },
  {
   "cell_type": "markdown",
   "metadata": {
    "id": "M_Va4JY347t7"
   },
   "source": [
    "# **modèle naive bayésien**"
   ]
  },
  {
   "cell_type": "code",
   "execution_count": null,
   "metadata": {
    "colab": {
     "base_uri": "https://localhost:8080/"
    },
    "id": "yixu9NBtMHRu",
    "outputId": "6b81310c-a707-4e01-e2aa-6f9205ca8e6f"
   },
   "outputs": [
    {
     "name": "stdout",
     "output_type": "stream",
     "text": [
      "Fitting 10 folds for each of 50 candidates, totalling 500 fits\n",
      "GaussianNB(var_smoothing=0.004094915062380423)\n"
     ]
    }
   ],
   "source": [
    "NB = GaussianNB(priors=None)\n",
    "param_grid_nb = {\n",
    "    'var_smoothing': np.logspace(0,-9, num=50)\n",
    "}\n",
    "nbModel_grid = GridSearchCV(estimator=GaussianNB(), param_grid=param_grid_nb, verbose=1, cv=10, n_jobs=-1)\n",
    "nbModel_grid.fit(X_train, y_train)\n",
    "print(nbModel_grid.best_estimator_)"
   ]
  },
  {
   "cell_type": "code",
   "execution_count": null,
   "metadata": {
    "colab": {
     "base_uri": "https://localhost:8080/"
    },
    "executionInfo": {
     "elapsed": 1341,
     "status": "ok",
     "timestamp": 1656108738752,
     "user": {
      "displayName": "Riadh Besseri",
      "userId": "06466589740049872170"
     },
     "user_tz": -60
    },
    "id": "tPofxklbC3-i",
    "outputId": "884fe2e3-39f1-4b8e-847f-7df731d6fdd2"
   },
   "outputs": [
    {
     "name": "stdout",
     "output_type": "stream",
     "text": [
      "['email' 'email' 'chat' ... 'email' 'WebRTC' 'facebook']\n",
      "la moyenne du temp du test : 0.009167003631591796\n",
      "la moyenne du temp d entrainement : 0.1338651180267334\n",
      "la moyenne d accuracy : 0.7236574746008708\n"
     ]
    }
   ],
   "source": [
    "NB_model = GaussianNB(var_smoothing=1.5998587196060574e-07)\n",
    "\n",
    "acc_score = []\n",
    "temp_test_score=[]\n",
    "temp_entr_score=[]\n",
    " \n",
    "for train_index , test_index in kf.split(X):\n",
    "    X_train , X_test = X.iloc[train_index,:],X.iloc[test_index,:]\n",
    "    y_train , y_test = y[train_index] , y[test_index]\n",
    "\n",
    "    start = time.time() \n",
    "    NB_model.fit(X_train,y_train)\n",
    "    end = time.time()\n",
    "    temp_entr_score.append(end - start)\n",
    "\n",
    "    start = time.time()\n",
    "    pred_values3 = NB_model.predict(X_test)\n",
    "    end = time.time()\n",
    "    temp_test_score.append(end - start)\n",
    "\n",
    "    acc = accuracy_score(pred_values3 , y_test)\n",
    "    acc_score.append(acc)\n",
    "\n",
    "report = cross_val_predict(NB_model,X_test, y_test)\n",
    "print(report)\n",
    "     \n",
    "avg_acc_score = sum(acc_score)/k\n",
    "avg_tt_score = sum(temp_entr_score)/k\n",
    "avg_tes_score = sum(temp_test_score)/k\n",
    "\n",
    "print('la moyenne du temp du test :',avg_tes_score)\n",
    "print('la moyenne du temp d entrainement :',avg_tt_score)\n",
    "print('la moyenne d accuracy : {}'.format(avg_acc_score))"
   ]
  },
  {
   "cell_type": "code",
   "execution_count": null,
   "metadata": {
    "colab": {
     "base_uri": "https://localhost:8080/"
    },
    "executionInfo": {
     "elapsed": 381,
     "status": "ok",
     "timestamp": 1656108786955,
     "user": {
      "displayName": "Riadh Besseri",
      "userId": "06466589740049872170"
     },
     "user_tz": -60
    },
    "id": "09FWpZrkElMI",
    "outputId": "e524951c-06f2-4d95-bcde-d8000f6b0cc6"
   },
   "outputs": [
    {
     "name": "stdout",
     "output_type": "stream",
     "text": [
      "              precision    recall  f1-score   support\n",
      "\n",
      "      WebRTC       0.68      0.97      0.80      1654\n",
      "        chat       0.60      0.98      0.74      1337\n",
      "       email       1.00      0.78      0.88      2376\n",
      "    facebook       0.63      0.63      0.63      2167\n",
      "       skype       0.54      0.19      0.28      1750\n",
      "     youtube       0.92      0.97      0.94      1740\n",
      "\n",
      "    accuracy                           0.74     11024\n",
      "   macro avg       0.73      0.75      0.71     11024\n",
      "weighted avg       0.74      0.74      0.72     11024\n",
      "\n"
     ]
    }
   ],
   "source": [
    "print(classification_report(y_test, report))"
   ]
  },
  {
   "cell_type": "code",
   "execution_count": null,
   "metadata": {
    "colab": {
     "base_uri": "https://localhost:8080/",
     "height": 279
    },
    "executionInfo": {
     "elapsed": 1082,
     "status": "ok",
     "timestamp": 1656107052085,
     "user": {
      "displayName": "Riadh Besseri",
      "userId": "06466589740049872170"
     },
     "user_tz": -60
    },
    "id": "TAwtqKdDDvIf",
    "outputId": "a5022edb-0500-414f-cf1d-090f314d3c76"
   },
   "outputs": [
    {
     "data": {
      "image/png": "[encoded data removed]",
      "text/plain": [
       "<Figure size 432x288 with 2 Axes>"
      ]
     },
     "metadata": {
      "needs_background": "light"
     },
     "output_type": "display_data"
    }
   ],
   "source": [
    "data = {'y_Actual':    y_test, 'y_Predicted': report }\n",
    "df = pd.DataFrame(data, columns=['y_Actual','y_Predicted'])\n",
    "confusion_matrix = pd.crosstab(df['y_Actual'], df['y_Predicted'], rownames=['Actual'], colnames=['Predicted'], margins = True)\n",
    "sns.heatmap(confusion_matrix, annot=True)\n",
    "plt.show()"
   ]
  },
  {
   "cell_type": "code",
   "execution_count": null,
   "metadata": {
    "colab": {
     "base_uri": "https://localhost:8080/",
     "height": 514
    },
    "executionInfo": {
     "elapsed": 2268,
     "status": "ok",
     "timestamp": 1656107116940,
     "user": {
      "displayName": "Riadh Besseri",
      "userId": "06466589740049872170"
     },
     "user_tz": -60
    },
    "id": "iTLAz1RrDKuG",
    "outputId": "62db2bbe-caea-406a-b93a-ef23fad5394c"
   },
   "outputs": [
    {
     "data": {
      "image/png": "[encoded data removed]",
      "text/plain": [
       "<Figure size 720x504 with 1 Axes>"
      ]
     },
     "metadata": {
      "needs_background": "light"
     },
     "output_type": "display_data"
    }
   ],
   "source": [
    "from sklearn.inspection import permutation_importance\n",
    "imps = permutation_importance(NB_model, X_test, y_test)\n",
    "nb_importances = imps.importances_mean\n",
    "std = imps.importances_std\n",
    "indices = np.argsort(nb_importances)[::-1]\n",
    "plt.figure(figsize=(10, 7))\n",
    "plt.title(\"Feature importances\")\n",
    "plt.bar(range(X_test.shape[1]), nb_importances[indices], color=\"teal\", yerr=std[indices], align=\"center\")\n",
    "plt.xticks(range(X_test.shape[1]), [X_train.columns[i] for i in range(8)], rotation=90)\n",
    "plt.xlim([-1, X_test.shape[1]])\n",
    "plt.show()"
   ]
  },
  {
   "cell_type": "markdown",
   "metadata": {
    "id": "tZcq1SUb6KUd"
   },
   "source": [
    "# **Modèle KNN**"
   ]
  },
  {
   "cell_type": "markdown",
   "metadata": {
    "id": "4qmwv56SPxd1"
   },
   "source": [
    "https://machinelearningknowledge.ai/knn-classifier-in-sklearn-using-gridsearchcv-with-example/"
   ]
  },
  {
   "cell_type": "code",
   "execution_count": null,
   "metadata": {
    "colab": {
     "base_uri": "https://localhost:8080/"
    },
    "id": "s3kjHuLbK3Jc",
    "outputId": "d99779b7-7e11-470a-a666-4df2328c2deb"
   },
   "outputs": [
    {
     "name": "stdout",
     "output_type": "stream",
     "text": [
      "Fitting 8 folds for each of 24 candidates, totalling 192 fits\n"
     ]
    }
   ],
   "source": [
    "knn = KNeighborsClassifier()\n",
    "from sklearn.model_selection import GridSearchCV\n",
    "k_range = list(range(1, 25))\n",
    "param_grid = dict(n_neighbors=k_range)\n",
    "  \n",
    "# defining parameter range\n",
    "grid = GridSearchCV(knn, param_grid, cv=8, scoring='accuracy', return_train_score=False,verbose=1)\n",
    "  \n",
    "# fitting the model for grid search\n",
    "grid_search=grid.fit(X_train, y_train)"
   ]
  },
  {
   "cell_type": "code",
   "execution_count": null,
   "metadata": {
    "colab": {
     "base_uri": "https://localhost:8080/"
    },
    "id": "ebPAHRN9L60U",
    "outputId": "f8dfadd6-05fb-4be3-b1cc-ca100be2edbe"
   },
   "outputs": [
    {
     "name": "stdout",
     "output_type": "stream",
     "text": [
      "{'n_neighbors': 1}\n"
     ]
    }
   ],
   "source": [
    "print(grid_search.best_params_)"
   ]
  },
  {
   "cell_type": "markdown",
   "metadata": {
    "id": "murteXewUOZT"
   },
   "source": [
    "https://scikit-learn.org/stable/modules/generated/sklearn.neighbors.KNeighborsClassifier.html#sklearn.neighbors.KNeighborsClassifier"
   ]
  },
  {
   "cell_type": "code",
   "execution_count": null,
   "metadata": {
    "colab": {
     "base_uri": "https://localhost:8080/"
    },
    "executionInfo": {
     "elapsed": 9299,
     "status": "ok",
     "timestamp": 1656109095854,
     "user": {
      "displayName": "Riadh Besseri",
      "userId": "06466589740049872170"
     },
     "user_tz": -60
    },
    "id": "0RUlENor3ceU",
    "outputId": "45194f22-9e28-4010-b90b-b38467311528"
   },
   "outputs": [
    {
     "name": "stdout",
     "output_type": "stream",
     "text": [
      "['email' 'email' 'chat' ... 'email' 'facebook' 'facebook']\n",
      "la moyenne du temp du test : 1.4001379013061523\n",
      "la moyenne du temp d entrainement : 0.2349118709564209\n",
      "la moyenne d accuracy : 0.9969702467343977\n"
     ]
    }
   ],
   "source": [
    "KNN_model = KNeighborsClassifier(n_neighbors=1)\n",
    "\n",
    "\n",
    "acc_score = []\n",
    "temp_test_score=[]\n",
    "temp_entr_score=[]\n",
    " \n",
    "for train_index , test_index in kf.split(X):\n",
    "    X_train , X_test = X.iloc[train_index,:],X.iloc[test_index,:]\n",
    "    y_train , y_test = y[train_index] , y[test_index]\n",
    "\n",
    "    start = time.time() \n",
    "    KNN_model.fit(X_train,y_train)\n",
    "    end = time.time()\n",
    "    temp_entr_score.append(end - start)\n",
    "\n",
    "    start = time.time()\n",
    "    pred_values4 = KNN_model.predict(X_test)\n",
    "    end = time.time()\n",
    "    temp_test_score.append(end - start)\n",
    "\n",
    "    acc = accuracy_score(pred_values4 , y_test)\n",
    "    acc_score.append(acc)\n",
    "\n",
    "report = cross_val_predict(KNN_model,X_test, y_test)\n",
    "print(report)\n",
    "     \n",
    "avg_acc_score = sum(acc_score)/k\n",
    "avg_tt_score = sum(temp_entr_score)/k\n",
    "avg_tes_score = sum(temp_test_score)/k\n",
    "\n",
    "print('la moyenne du temp du test :',avg_tes_score)\n",
    "print('la moyenne du temp d entrainement :',avg_tt_score)\n",
    "print('la moyenne d accuracy : {}'.format(avg_acc_score))"
   ]
  },
  {
   "cell_type": "code",
   "execution_count": null,
   "metadata": {
    "colab": {
     "base_uri": "https://localhost:8080/"
    },
    "executionInfo": {
     "elapsed": 1046,
     "status": "ok",
     "timestamp": 1656107471574,
     "user": {
      "displayName": "Riadh Besseri",
      "userId": "06466589740049872170"
     },
     "user_tz": -60
    },
    "id": "0gPxCj5j3um6",
    "outputId": "86f75c51-99b5-4ae4-c59d-6ec704d8f497"
   },
   "outputs": [
    {
     "name": "stdout",
     "output_type": "stream",
     "text": [
      "              precision    recall  f1-score   support\n",
      "\n",
      "      WebRTC       1.00      1.00      1.00      1654\n",
      "        chat       0.95      0.97      0.96      1337\n",
      "       email       0.99      0.98      0.98      2376\n",
      "    facebook       0.98      0.99      0.99      2167\n",
      "       skype       0.99      0.98      0.99      1750\n",
      "     youtube       1.00      1.00      1.00      1740\n",
      "\n",
      "    accuracy                           0.99     11024\n",
      "   macro avg       0.99      0.99      0.99     11024\n",
      "weighted avg       0.99      0.99      0.99     11024\n",
      "\n"
     ]
    }
   ],
   "source": [
    "print(classification_report(y_test, report))"
   ]
  },
  {
   "cell_type": "code",
   "execution_count": 66,
   "metadata": {
    "colab": {
     "base_uri": "https://localhost:8080/",
     "height": 279
    },
    "executionInfo": {
     "elapsed": 3659,
     "status": "ok",
     "timestamp": 1656109197202,
     "user": {
      "displayName": "Riadh Besseri",
      "userId": "06466589740049872170"
     },
     "user_tz": -60
    },
    "id": "Yzxke_7r37y_",
    "outputId": "2cfa537a-3149-4bb8-ea1d-e378f0f9aaee"
   },
   "outputs": [
    {
     "data": {
      "image/png": "[encoded data removed]",
      "text/plain": [
       "<Figure size 432x288 with 2 Axes>"
      ]
     },
     "metadata": {
      "needs_background": "light"
     },
     "output_type": "display_data"
    }
   ],
   "source": [
    "data = {'y_Actual':    y_test, 'y_Predicted': report}\n",
    "df = pd.DataFrame(data, columns=['y_Actual','y_Predicted'])\n",
    "confusion_matrix = pd.crosstab(df['y_Actual'], df['y_Predicted'], rownames=['Actual'], colnames=['Predicted'], margins = True)\n",
    "sns.heatmap(confusion_matrix, annot=True)\n",
    "plt.show()"
   ]
  },
  {
   "cell_type": "code",
   "execution_count": null,
   "metadata": {
    "colab": {
     "base_uri": "https://localhost:8080/"
    },
    "executionInfo": {
     "elapsed": 38270,
     "status": "ok",
     "timestamp": 1656099525435,
     "user": {
      "displayName": "Riadh Besseri",
      "userId": "06466589740049872170"
     },
     "user_tz": -60
    },
    "id": "HkF6OvuU11Rt",
    "outputId": "35782a1d-f7f7-4186-aeb7-c604ac712a27"
   },
   "outputs": [
    {
     "name": "stdout",
     "output_type": "stream",
     "text": [
      "Mounted at /content/drive\n"
     ]
    }
   ],
   "source": [
    "from google.colab import drive\n",
    "drive.mount('/content/drive')"
   ]
  },
  {
   "cell_type": "markdown",
   "metadata": {
    "id": "TuhxHwf1RuHF"
   },
   "source": [
    "# Modèle SGDClassifier"
   ]
  },
  {
   "cell_type": "markdown",
   "metadata": {
    "id": "xU8czUvgSvQS"
   },
   "source": [
    "https://scikit-learn.org/stable/modules/generated/sklearn.linear_model.SGDClassifier.html"
   ]
  },
  {
   "cell_type": "code",
   "execution_count": null,
   "metadata": {
    "id": "6qHR7lOdSZxp"
   },
   "outputs": [],
   "source": [
    "SGDC = SGDClassifier()"
   ]
  },
  {
   "cell_type": "code",
   "execution_count": null,
   "metadata": {
    "colab": {
     "base_uri": "https://localhost:8080/"
    },
    "id": "_yGFiuf-STfl",
    "outputId": "44cc1e1c-9577-4cf1-eb63-700288da6858"
   },
   "outputs": [
    {
     "name": "stdout",
     "output_type": "stream",
     "text": [
      "SGDClassifier(alpha=0.01, average=True, l1_ratio=0.8888888888888888)\n",
      "{'mean_fit_time': array([0.20586934, 0.21667762, 0.20943279, 0.21016493, 0.21093965,\n",
      "       0.20469532, 0.20618014, 0.21191511, 0.20858006, 0.20939522,\n",
      "       0.18126311, 0.18082981, 0.19016376, 0.18407865, 0.18219814,\n",
      "       0.17980633, 0.18254313, 0.1858161 , 0.19011402, 0.18268509,\n",
      "       0.19686146, 0.19871073, 0.19560237, 0.20405865, 0.19826493,\n",
      "       0.2005734 , 0.20995564, 0.23076839, 0.21975665, 0.21667781,\n",
      "       0.18547335, 0.19369249, 0.18989973, 0.18235264, 0.18115177,\n",
      "       0.18116946, 0.17365937, 0.18347197, 0.18976555, 0.17500849,\n",
      "       0.19541745, 0.20064516, 0.19945321, 0.20686498, 0.19518833,\n",
      "       0.19919453, 0.19721031, 0.21059179, 0.19760399, 0.19682422,\n",
      "       0.17140794, 0.16868334, 0.17335443, 0.17024417, 0.16999898,\n",
      "       0.16773739, 0.16783419, 0.17609973, 0.17230129, 0.17447495]), 'std_fit_time': array([0.01478352, 0.00708545, 0.00632274, 0.00461664, 0.00104786,\n",
      "       0.00338264, 0.00600411, 0.0037581 , 0.00321927, 0.00404993,\n",
      "       0.00443972, 0.00450682, 0.00618096, 0.00461991, 0.00264415,\n",
      "       0.00378745, 0.0029255 , 0.00872163, 0.00455211, 0.00480073,\n",
      "       0.00452161, 0.00461109, 0.00173286, 0.00498427, 0.00282241,\n",
      "       0.0026144 , 0.00973643, 0.01043962, 0.00985608, 0.00449941,\n",
      "       0.00791249, 0.00404119, 0.00560374, 0.00400417, 0.00341328,\n",
      "       0.00429062, 0.0040722 , 0.00455006, 0.01200826, 0.00434299,\n",
      "       0.00405941, 0.00674328, 0.00275206, 0.00127666, 0.00588311,\n",
      "       0.00889945, 0.00608818, 0.00628799, 0.0055381 , 0.0051413 ,\n",
      "       0.0034429 , 0.00313805, 0.00532628, 0.00277533, 0.00153296,\n",
      "       0.00329634, 0.00218935, 0.00491925, 0.0022379 , 0.00630847]), 'mean_score_time': array([0.01438198, 0.0137044 , 0.01368637, 0.01351213, 0.01376061,\n",
      "       0.0134479 , 0.01326594, 0.01438756, 0.01412044, 0.01328883,\n",
      "       0.01333299, 0.01340976, 0.01370583, 0.01505775, 0.01365485,\n",
      "       0.01436157, 0.01359172, 0.01388927, 0.01398144, 0.01395659,\n",
      "       0.01364064, 0.01320138, 0.01330433, 0.01387744, 0.01344628,\n",
      "       0.01357965, 0.0137557 , 0.01480441, 0.01395631, 0.01384797,\n",
      "       0.0134223 , 0.01333547, 0.0144773 , 0.01358738, 0.01425653,\n",
      "       0.01426954, 0.01465263, 0.0133522 , 0.01437902, 0.01349564,\n",
      "       0.01442652, 0.01350608, 0.01378045, 0.01454058, 0.01390328,\n",
      "       0.01353722, 0.01433091, 0.01376214, 0.01341038, 0.01344213,\n",
      "       0.01361537, 0.01349354, 0.01368933, 0.01321197, 0.01409216,\n",
      "       0.0134388 , 0.01321173, 0.01445231, 0.01333532, 0.01326609]), 'std_score_time': array([1.27847071e-03, 7.89681920e-04, 4.54193748e-04, 4.20499761e-04,\n",
      "       8.72466635e-04, 4.64073067e-04, 2.55472315e-04, 1.29006375e-03,\n",
      "       1.16402482e-03, 1.64698381e-04, 2.01966719e-04, 2.63402127e-04,\n",
      "       1.21482592e-03, 2.99792205e-03, 6.00305553e-04, 1.21858955e-03,\n",
      "       4.52124572e-04, 6.52949218e-04, 8.63418097e-04, 8.23522337e-04,\n",
      "       1.33233262e-03, 2.40488489e-04, 9.80236873e-05, 4.76430849e-04,\n",
      "       5.15702272e-04, 5.59131481e-04, 9.13222867e-04, 1.22369164e-03,\n",
      "       5.65414453e-04, 4.17662660e-04, 2.33323170e-04, 2.62495456e-04,\n",
      "       1.24582987e-03, 8.65005193e-04, 9.73622667e-04, 8.99511502e-04,\n",
      "       1.70393813e-03, 4.37765115e-04, 1.33408592e-03, 2.74829281e-04,\n",
      "       1.07482099e-03, 2.70744872e-04, 3.89093704e-04, 1.18222101e-03,\n",
      "       9.62233716e-04, 2.86870537e-04, 1.25208343e-03, 4.74120546e-04,\n",
      "       2.57187478e-04, 3.26187484e-04, 4.10368064e-04, 4.58343134e-04,\n",
      "       1.03199939e-03, 1.59483675e-04, 8.01272589e-04, 5.89794956e-04,\n",
      "       4.29359625e-04, 1.36398929e-03, 3.52809284e-04, 1.36090862e-04]), 'param_alpha': masked_array(data=[0.01, 0.01, 0.01, 0.01, 0.01, 0.01, 0.01, 0.01, 0.01,\n",
      "                   0.01, 0.01, 0.01, 0.01, 0.01, 0.01, 0.01, 0.01, 0.01,\n",
      "                   0.01, 0.01, 0.1, 0.1, 0.1, 0.1, 0.1, 0.1, 0.1, 0.1,\n",
      "                   0.1, 0.1, 0.1, 0.1, 0.1, 0.1, 0.1, 0.1, 0.1, 0.1, 0.1,\n",
      "                   0.1, 1.0, 1.0, 1.0, 1.0, 1.0, 1.0, 1.0, 1.0, 1.0, 1.0,\n",
      "                   1.0, 1.0, 1.0, 1.0, 1.0, 1.0, 1.0, 1.0, 1.0, 1.0],\n",
      "             mask=[False, False, False, False, False, False, False, False,\n",
      "                   False, False, False, False, False, False, False, False,\n",
      "                   False, False, False, False, False, False, False, False,\n",
      "                   False, False, False, False, False, False, False, False,\n",
      "                   False, False, False, False, False, False, False, False,\n",
      "                   False, False, False, False, False, False, False, False,\n",
      "                   False, False, False, False, False, False, False, False,\n",
      "                   False, False, False, False],\n",
      "       fill_value='?',\n",
      "            dtype=object), 'param_average': masked_array(data=[True, True, True, True, True, True, True, True, True,\n",
      "                   True, False, False, False, False, False, False, False,\n",
      "                   False, False, False, True, True, True, True, True,\n",
      "                   True, True, True, True, True, False, False, False,\n",
      "                   False, False, False, False, False, False, False, True,\n",
      "                   True, True, True, True, True, True, True, True, True,\n",
      "                   False, False, False, False, False, False, False, False,\n",
      "                   False, False],\n",
      "             mask=[False, False, False, False, False, False, False, False,\n",
      "                   False, False, False, False, False, False, False, False,\n",
      "                   False, False, False, False, False, False, False, False,\n",
      "                   False, False, False, False, False, False, False, False,\n",
      "                   False, False, False, False, False, False, False, False,\n",
      "                   False, False, False, False, False, False, False, False,\n",
      "                   False, False, False, False, False, False, False, False,\n",
      "                   False, False, False, False],\n",
      "       fill_value='?',\n",
      "            dtype=object), 'param_l1_ratio': masked_array(data=[0.0, 0.1111111111111111, 0.2222222222222222,\n",
      "                   0.3333333333333333, 0.4444444444444444,\n",
      "                   0.5555555555555556, 0.6666666666666666,\n",
      "                   0.7777777777777777, 0.8888888888888888, 1.0, 0.0,\n",
      "                   0.1111111111111111, 0.2222222222222222,\n",
      "                   0.3333333333333333, 0.4444444444444444,\n",
      "                   0.5555555555555556, 0.6666666666666666,\n",
      "                   0.7777777777777777, 0.8888888888888888, 1.0, 0.0,\n",
      "                   0.1111111111111111, 0.2222222222222222,\n",
      "                   0.3333333333333333, 0.4444444444444444,\n",
      "                   0.5555555555555556, 0.6666666666666666,\n",
      "                   0.7777777777777777, 0.8888888888888888, 1.0, 0.0,\n",
      "                   0.1111111111111111, 0.2222222222222222,\n",
      "                   0.3333333333333333, 0.4444444444444444,\n",
      "                   0.5555555555555556, 0.6666666666666666,\n",
      "                   0.7777777777777777, 0.8888888888888888, 1.0, 0.0,\n",
      "                   0.1111111111111111, 0.2222222222222222,\n",
      "                   0.3333333333333333, 0.4444444444444444,\n",
      "                   0.5555555555555556, 0.6666666666666666,\n",
      "                   0.7777777777777777, 0.8888888888888888, 1.0, 0.0,\n",
      "                   0.1111111111111111, 0.2222222222222222,\n",
      "                   0.3333333333333333, 0.4444444444444444,\n",
      "                   0.5555555555555556, 0.6666666666666666,\n",
      "                   0.7777777777777777, 0.8888888888888888, 1.0],\n",
      "             mask=[False, False, False, False, False, False, False, False,\n",
      "                   False, False, False, False, False, False, False, False,\n",
      "                   False, False, False, False, False, False, False, False,\n",
      "                   False, False, False, False, False, False, False, False,\n",
      "                   False, False, False, False, False, False, False, False,\n",
      "                   False, False, False, False, False, False, False, False,\n",
      "                   False, False, False, False, False, False, False, False,\n",
      "                   False, False, False, False],\n",
      "       fill_value='?',\n",
      "            dtype=object), 'params': [{'alpha': 0.01, 'average': True, 'l1_ratio': 0.0}, {'alpha': 0.01, 'average': True, 'l1_ratio': 0.1111111111111111}, {'alpha': 0.01, 'average': True, 'l1_ratio': 0.2222222222222222}, {'alpha': 0.01, 'average': True, 'l1_ratio': 0.3333333333333333}, {'alpha': 0.01, 'average': True, 'l1_ratio': 0.4444444444444444}, {'alpha': 0.01, 'average': True, 'l1_ratio': 0.5555555555555556}, {'alpha': 0.01, 'average': True, 'l1_ratio': 0.6666666666666666}, {'alpha': 0.01, 'average': True, 'l1_ratio': 0.7777777777777777}, {'alpha': 0.01, 'average': True, 'l1_ratio': 0.8888888888888888}, {'alpha': 0.01, 'average': True, 'l1_ratio': 1.0}, {'alpha': 0.01, 'average': False, 'l1_ratio': 0.0}, {'alpha': 0.01, 'average': False, 'l1_ratio': 0.1111111111111111}, {'alpha': 0.01, 'average': False, 'l1_ratio': 0.2222222222222222}, {'alpha': 0.01, 'average': False, 'l1_ratio': 0.3333333333333333}, {'alpha': 0.01, 'average': False, 'l1_ratio': 0.4444444444444444}, {'alpha': 0.01, 'average': False, 'l1_ratio': 0.5555555555555556}, {'alpha': 0.01, 'average': False, 'l1_ratio': 0.6666666666666666}, {'alpha': 0.01, 'average': False, 'l1_ratio': 0.7777777777777777}, {'alpha': 0.01, 'average': False, 'l1_ratio': 0.8888888888888888}, {'alpha': 0.01, 'average': False, 'l1_ratio': 1.0}, {'alpha': 0.1, 'average': True, 'l1_ratio': 0.0}, {'alpha': 0.1, 'average': True, 'l1_ratio': 0.1111111111111111}, {'alpha': 0.1, 'average': True, 'l1_ratio': 0.2222222222222222}, {'alpha': 0.1, 'average': True, 'l1_ratio': 0.3333333333333333}, {'alpha': 0.1, 'average': True, 'l1_ratio': 0.4444444444444444}, {'alpha': 0.1, 'average': True, 'l1_ratio': 0.5555555555555556}, {'alpha': 0.1, 'average': True, 'l1_ratio': 0.6666666666666666}, {'alpha': 0.1, 'average': True, 'l1_ratio': 0.7777777777777777}, {'alpha': 0.1, 'average': True, 'l1_ratio': 0.8888888888888888}, {'alpha': 0.1, 'average': True, 'l1_ratio': 1.0}, {'alpha': 0.1, 'average': False, 'l1_ratio': 0.0}, {'alpha': 0.1, 'average': False, 'l1_ratio': 0.1111111111111111}, {'alpha': 0.1, 'average': False, 'l1_ratio': 0.2222222222222222}, {'alpha': 0.1, 'average': False, 'l1_ratio': 0.3333333333333333}, {'alpha': 0.1, 'average': False, 'l1_ratio': 0.4444444444444444}, {'alpha': 0.1, 'average': False, 'l1_ratio': 0.5555555555555556}, {'alpha': 0.1, 'average': False, 'l1_ratio': 0.6666666666666666}, {'alpha': 0.1, 'average': False, 'l1_ratio': 0.7777777777777777}, {'alpha': 0.1, 'average': False, 'l1_ratio': 0.8888888888888888}, {'alpha': 0.1, 'average': False, 'l1_ratio': 1.0}, {'alpha': 1.0, 'average': True, 'l1_ratio': 0.0}, {'alpha': 1.0, 'average': True, 'l1_ratio': 0.1111111111111111}, {'alpha': 1.0, 'average': True, 'l1_ratio': 0.2222222222222222}, {'alpha': 1.0, 'average': True, 'l1_ratio': 0.3333333333333333}, {'alpha': 1.0, 'average': True, 'l1_ratio': 0.4444444444444444}, {'alpha': 1.0, 'average': True, 'l1_ratio': 0.5555555555555556}, {'alpha': 1.0, 'average': True, 'l1_ratio': 0.6666666666666666}, {'alpha': 1.0, 'average': True, 'l1_ratio': 0.7777777777777777}, {'alpha': 1.0, 'average': True, 'l1_ratio': 0.8888888888888888}, {'alpha': 1.0, 'average': True, 'l1_ratio': 1.0}, {'alpha': 1.0, 'average': False, 'l1_ratio': 0.0}, {'alpha': 1.0, 'average': False, 'l1_ratio': 0.1111111111111111}, {'alpha': 1.0, 'average': False, 'l1_ratio': 0.2222222222222222}, {'alpha': 1.0, 'average': False, 'l1_ratio': 0.3333333333333333}, {'alpha': 1.0, 'average': False, 'l1_ratio': 0.4444444444444444}, {'alpha': 1.0, 'average': False, 'l1_ratio': 0.5555555555555556}, {'alpha': 1.0, 'average': False, 'l1_ratio': 0.6666666666666666}, {'alpha': 1.0, 'average': False, 'l1_ratio': 0.7777777777777777}, {'alpha': 1.0, 'average': False, 'l1_ratio': 0.8888888888888888}, {'alpha': 1.0, 'average': False, 'l1_ratio': 1.0}], 'split0_test_score': array([0.67902034, 0.6794091 , 0.67759492, 0.67798367, 0.67863159,\n",
      "       0.67863159, 0.67785409, 0.67837242, 0.67837242, 0.67824284,\n",
      "       0.66839445, 0.66036024, 0.67098613, 0.66113775, 0.66541402,\n",
      "       0.66359984, 0.660749  , 0.66385901, 0.65893482, 0.6737074 ,\n",
      "       0.62692756, 0.62731631, 0.62304004, 0.62602047, 0.62472463,\n",
      "       0.62913049, 0.62576131, 0.6282234 , 0.62472463, 0.62848257,\n",
      "       0.60191784, 0.61474666, 0.59893741, 0.59245821, 0.62951924,\n",
      "       0.61539458, 0.61656084, 0.60399119, 0.60437994, 0.60489828,\n",
      "       0.63846054, 0.6363872 , 0.63003758, 0.62848257, 0.62537255,\n",
      "       0.59815991, 0.60723079, 0.63094467, 0.6347026 , 0.61954127,\n",
      "       0.60593495, 0.60476869, 0.61824543, 0.60489828, 0.61383957,\n",
      "       0.62874174, 0.59349488, 0.59764157, 0.61422833, 0.59219904]), 'split1_test_score': array([0.68277828, 0.68057535, 0.68200078, 0.68083452, 0.68083452,\n",
      "       0.68083452, 0.68096411, 0.68148244, 0.68316703, 0.68109369,\n",
      "       0.6826487 , 0.66787612, 0.65945316, 0.68122327, 0.68549955,\n",
      "       0.66852404, 0.6712453 , 0.67927951, 0.6777245 , 0.6729299 ,\n",
      "       0.63042633, 0.63107425, 0.63457302, 0.63379552, 0.63379552,\n",
      "       0.63522094, 0.631463  , 0.6331476 , 0.63237009, 0.63198134,\n",
      "       0.61539458, 0.61746793, 0.61008164, 0.62070753, 0.60541661,\n",
      "       0.61941169, 0.61137748, 0.6144875 , 0.62602047, 0.61124789,\n",
      "       0.60593495, 0.61176623, 0.62459505, 0.62731631, 0.63029675,\n",
      "       0.64118181, 0.63923805, 0.61720876, 0.62109628, 0.64571725,\n",
      "       0.63897888, 0.63081508, 0.61863418, 0.61034081, 0.61370999,\n",
      "       0.61215498, 0.60619412, 0.63599844, 0.62407671, 0.62252171]), 'split2_test_score': array([0.66515485, 0.66554361, 0.6647661 , 0.66774653, 0.6672282 ,\n",
      "       0.66489568, 0.6672282 , 0.66670986, 0.66748737, 0.66619153,\n",
      "       0.65245562, 0.64571725, 0.66619153, 0.6558248 , 0.65439938,\n",
      "       0.65141895, 0.66321109, 0.65297395, 0.65310354, 0.65115978,\n",
      "       0.62239212, 0.62394713, 0.62239212, 0.6217442 , 0.62355838,\n",
      "       0.62109628, 0.62887132, 0.62265129, 0.62200337, 0.62057794,\n",
      "       0.6038616 , 0.6087858 , 0.59466114, 0.61332124, 0.60839705,\n",
      "       0.60269535, 0.61267332, 0.60995205, 0.59453155, 0.60152909,\n",
      "       0.59673448, 0.63833096, 0.62640923, 0.61150706, 0.64170014,\n",
      "       0.63003758, 0.61694959, 0.62576131, 0.62653881, 0.62951924,\n",
      "       0.6160425 , 0.6185046 , 0.62031878, 0.61306207, 0.60528703,\n",
      "       0.60813788, 0.59803032, 0.6030841 , 0.62291046, 0.61733834]), 'split3_test_score': array([0.66969029, 0.66852404, 0.6704678 , 0.66839445, 0.66878321,\n",
      "       0.66969029, 0.67033821, 0.67163405, 0.67020863, 0.66813529,\n",
      "       0.67409615, 0.65465855, 0.66632111, 0.66256317, 0.65919399,\n",
      "       0.65854607, 0.66437735, 0.67137489, 0.66917196, 0.65750939,\n",
      "       0.63237009, 0.63159259, 0.62926008, 0.6306855 , 0.6306855 ,\n",
      "       0.63340676, 0.63340676, 0.63055592, 0.63107425, 0.62848257,\n",
      "       0.61176623, 0.61021122, 0.6095633 , 0.60969289, 0.61306207,\n",
      "       0.62446547, 0.61682001, 0.61306207, 0.60865621, 0.61552417,\n",
      "       0.62226254, 0.60800829, 0.63444344, 0.64144097, 0.63535052,\n",
      "       0.63949721, 0.63988597, 0.63094467, 0.62796423, 0.63094467,\n",
      "       0.61500583, 0.60697162, 0.62407671, 0.60295452, 0.62148503,\n",
      "       0.62381755, 0.63768304, 0.61720876, 0.63457302, 0.61176623]), 'split4_test_score': array([0.67586833, 0.67418351, 0.67547952, 0.67638673, 0.67509072,\n",
      "       0.67418351, 0.67522032, 0.67470192, 0.67547952, 0.67560912,\n",
      "       0.65824261, 0.65150337, 0.65772421, 0.66938828, 0.66886988,\n",
      "       0.65176257, 0.6724987 , 0.66122343, 0.66018663, 0.65953862,\n",
      "       0.62843442, 0.63024883, 0.63128564, 0.62713841, 0.62947123,\n",
      "       0.6251944 , 0.62856402, 0.6255832 , 0.62947123, 0.62636081,\n",
      "       0.6242872 , 0.62597201, 0.60653188, 0.60601348, 0.61897356,\n",
      "       0.61741835, 0.61780715, 0.63154484, 0.6100311 , 0.61638154,\n",
      "       0.61534474, 0.62895283, 0.66588906, 0.63322965, 0.63167444,\n",
      "       0.62636081, 0.6412649 , 0.61521514, 0.64515293, 0.63400726,\n",
      "       0.62843442, 0.5943494 , 0.61249352, 0.63167444, 0.61093831,\n",
      "       0.60588388, 0.60471747, 0.60018144, 0.63815448, 0.60523587]), 'mean_test_score': array([0.67450242, 0.67364712, 0.67406182, 0.67426918, 0.67411365,\n",
      "       0.67364712, 0.67432099, 0.67458014, 0.674943  , 0.67385449,\n",
      "       0.66716751, 0.6560231 , 0.66413523, 0.66602746, 0.66667536,\n",
      "       0.65877029, 0.66641629, 0.66574216, 0.66382429, 0.66296902,\n",
      "       0.62811011, 0.62883582, 0.62811018, 0.62787682, 0.62844705,\n",
      "       0.62880978, 0.62961328, 0.62803228, 0.62792872, 0.62717705,\n",
      "       0.61144549, 0.61543672, 0.60395507, 0.60843867, 0.61507371,\n",
      "       0.61587709, 0.61504776, 0.61460753, 0.60872386, 0.60991619,\n",
      "       0.61574745, 0.6246891 , 0.63627487, 0.62839532, 0.63287888,\n",
      "       0.62704746, 0.62891386, 0.62401491, 0.63109097, 0.63194594,\n",
      "       0.62087932, 0.61108188, 0.61875373, 0.61258602, 0.61305199,\n",
      "       0.6157472 , 0.60802397, 0.61082286, 0.6267886 , 0.60981224]), 'std_test_score': array([0.00634509, 0.005889  , 0.00594722, 0.00526199, 0.00533591,\n",
      "       0.00581439, 0.00497178, 0.0051509 , 0.00561577, 0.00576494,\n",
      "       0.01081917, 0.0075869 , 0.00487779, 0.00874314, 0.01065296,\n",
      "       0.00665824, 0.00462307, 0.00896638, 0.0086474 , 0.00889455,\n",
      "       0.00339739, 0.0028571 , 0.00472391, 0.00411145, 0.00380582,\n",
      "       0.00519436, 0.0026192 , 0.00367491, 0.00393384, 0.00376044,\n",
      "       0.00811047, 0.00611776, 0.00611852, 0.00935087, 0.00855297,\n",
      "       0.00724735, 0.00253588, 0.00920495, 0.01020958, 0.00584032,\n",
      "       0.01425673, 0.01254093, 0.01518557, 0.0097974 , 0.00544769,\n",
      "       0.01548341, 0.0140913 , 0.00667612, 0.00826045, 0.00842217,\n",
      "       0.01154037, 0.01249978, 0.00374824, 0.01021276, 0.0052332 ,\n",
      "       0.00896749, 0.01552359, 0.01429311, 0.00860157, 0.01051816]), 'rank_test_score': array([ 3,  9,  7,  5,  6,  9,  4,  2,  1,  8, 11, 20, 16, 14, 12, 19, 13,\n",
      "       15, 17, 18, 32, 27, 31, 35, 29, 28, 25, 33, 34, 36, 52, 46, 60, 58,\n",
      "       47, 43, 48, 49, 57, 55, 44, 39, 21, 30, 22, 37, 26, 40, 24, 23, 41,\n",
      "       53, 42, 51, 50, 45, 59, 54, 38, 56], dtype=int32)}\n"
     ]
    }
   ],
   "source": [
    "param_grid = {\n",
    "    \"average\": [True, False],\n",
    "    \"l1_ratio\": np.linspace(0, 1, num=10),\n",
    "    \"alpha\": np.power(10, np.arange(-2, 1, dtype=float)),\n",
    "}\n",
    "grid_search = GridSearchCV(SGDC, param_grid=param_grid)\n",
    "\n",
    "grid_search.fit(X_train, y_train)\n",
    "print(grid_search.best_estimator_)\n",
    "print(grid_search.cv_results_)"
   ]
  },
  {
   "cell_type": "code",
   "execution_count": null,
   "metadata": {
    "colab": {
     "base_uri": "https://localhost:8080/"
    },
    "id": "jwGhf_DfS5Nn",
    "outputId": "d21b23f6-5ebc-4430-ae6b-3ac706b880f8"
   },
   "outputs": [
    {
     "name": "stdout",
     "output_type": "stream",
     "text": [
      "SGDClassifier(alpha=0.01, average=True, l1_ratio=0.8888888888888888)\n"
     ]
    }
   ],
   "source": [
    "print(grid_search.best_estimator_)"
   ]
  },
  {
   "cell_type": "code",
   "execution_count": 67,
   "metadata": {
    "colab": {
     "base_uri": "https://localhost:8080/"
    },
    "executionInfo": {
     "elapsed": 4097,
     "status": "ok",
     "timestamp": 1656109249513,
     "user": {
      "displayName": "Riadh Besseri",
      "userId": "06466589740049872170"
     },
     "user_tz": -60
    },
    "id": "9LNy-McLS6jO",
    "outputId": "66fb2111-a3b9-4eb7-cccd-87ce23c00e06"
   },
   "outputs": [
    {
     "name": "stdout",
     "output_type": "stream",
     "text": [
      "['email' 'email' 'youtube' ... 'email' 'WebRTC' 'facebook']\n",
      "la moyenne du temp du test : 0.008028411865234375\n",
      "la moyenne du temp d entrainement : 0.6137757301330566\n",
      "la moyenne d accuracy : 0.6656930333817126\n"
     ]
    }
   ],
   "source": [
    "SGDC_model = SGDClassifier(alpha=0.01, l1_ratio=0.6666666666666666)\n",
    "\n",
    "\n",
    "\n",
    "acc_score = []\n",
    "temp_test_score=[]\n",
    "temp_entr_score=[]\n",
    " \n",
    "for train_index , test_index in kf.split(X):\n",
    "    X_train , X_test = X.iloc[train_index,:],X.iloc[test_index,:]\n",
    "    y_train , y_test = y[train_index] , y[test_index]\n",
    "\n",
    "    start = time.time() \n",
    "    SGDC_model.fit(X_train,y_train)\n",
    "    end = time.time()\n",
    "    temp_entr_score.append(end - start)\n",
    "\n",
    "    start = time.time()\n",
    "    pred_values5 = SGDC_model.predict(X_test)\n",
    "    end = time.time()\n",
    "    temp_test_score.append(end - start)\n",
    "\n",
    "    acc = accuracy_score(pred_values5 , y_test)\n",
    "    acc_score.append(acc)\n",
    "\n",
    "report = cross_val_predict(SGDC_model,X_test, y_test)\n",
    "print(report)\n",
    "     \n",
    "avg_acc_score = sum(acc_score)/k\n",
    "avg_tt_score = sum(temp_entr_score)/k\n",
    "avg_tes_score = sum(temp_test_score)/k\n",
    "\n",
    "print('la moyenne du temp du test :',avg_tes_score)\n",
    "print('la moyenne du temp d entrainement :',avg_tt_score)\n",
    "print('la moyenne d accuracy : {}'.format(avg_acc_score))"
   ]
  },
  {
   "cell_type": "code",
   "execution_count": null,
   "metadata": {
    "colab": {
     "base_uri": "https://localhost:8080/"
    },
    "executionInfo": {
     "elapsed": 630,
     "status": "ok",
     "timestamp": 1656107808814,
     "user": {
      "displayName": "Riadh Besseri",
      "userId": "06466589740049872170"
     },
     "user_tz": -60
    },
    "id": "AxqiprtJS-Gy",
    "outputId": "f2675dfe-97b0-4d8d-89ac-fd48c79f66e4"
   },
   "outputs": [
    {
     "name": "stdout",
     "output_type": "stream",
     "text": [
      "              precision    recall  f1-score   support\n",
      "\n",
      "      WebRTC       0.55      0.98      0.70      1654\n",
      "        chat       0.38      0.30      0.34      1337\n",
      "       email       0.82      0.83      0.83      2376\n",
      "    facebook       0.89      0.21      0.34      2167\n",
      "       skype       0.79      0.78      0.79      1750\n",
      "     youtube       0.71      0.96      0.82      1740\n",
      "\n",
      "    accuracy                           0.68     11024\n",
      "   macro avg       0.69      0.68      0.63     11024\n",
      "weighted avg       0.72      0.68      0.65     11024\n",
      "\n"
     ]
    }
   ],
   "source": [
    "from sklearn.metrics import classification_report\n",
    "print(classification_report(y_test, report))"
   ]
  },
  {
   "cell_type": "code",
   "execution_count": 68,
   "metadata": {
    "colab": {
     "base_uri": "https://localhost:8080/",
     "height": 279
    },
    "executionInfo": {
     "elapsed": 1210,
     "status": "ok",
     "timestamp": 1656109298700,
     "user": {
      "displayName": "Riadh Besseri",
      "userId": "06466589740049872170"
     },
     "user_tz": -60
    },
    "id": "sQlcAP8STC2J",
    "outputId": "09ceac78-de42-42c9-e309-af9131738294"
   },
   "outputs": [
    {
     "data": {
      "image/png": "[encoded data removed]",
      "text/plain": [
       "<Figure size 432x288 with 2 Axes>"
      ]
     },
     "metadata": {
      "needs_background": "light"
     },
     "output_type": "display_data"
    }
   ],
   "source": [
    "import seaborn as sns \n",
    "data = {'y_Actual':    y_test, 'y_Predicted': report }\n",
    "df = pd.DataFrame(data, columns=['y_Actual','y_Predicted'])\n",
    "confusion_matrix = pd.crosstab(df['y_Actual'], df['y_Predicted'], rownames=['Actual'], colnames=['Predicted'], margins = True)\n",
    "sns.heatmap(confusion_matrix, annot=True)\n",
    "plt.show()"
   ]
  },
  {
   "cell_type": "markdown",
   "metadata": {
    "id": "_wPd6rBIB-gr"
   },
   "source": [
    "# **Comparaison entre les algorithmes du machine learning**"
   ]
  },
  {
   "cell_type": "code",
   "execution_count": 69,
   "metadata": {
    "colab": {
     "base_uri": "https://localhost:8080/",
     "height": 284
    },
    "executionInfo": {
     "elapsed": 301,
     "status": "ok",
     "timestamp": 1656109314961,
     "user": {
      "displayName": "Riadh Besseri",
      "userId": "06466589740049872170"
     },
     "user_tz": -60
    },
    "id": "JKeberMaB9yZ",
    "outputId": "53a7be63-94f9-4f18-a6f0-c290e83a0e95"
   },
   "outputs": [
    {
     "data": {
      "image/png": "[encoded data removed]",
      "text/plain": [
       "<Figure size 432x288 with 1 Axes>"
      ]
     },
     "metadata": {
      "needs_background": "light"
     },
     "output_type": "display_data"
    }
   ],
   "source": [
    "names = ['SVM','RF',  'NB','KNN','SGDC'] \n",
    "values = []\n",
    "values.append(metrics.accuracy_score(y_test, pred_values1))\n",
    "values.append(metrics.accuracy_score(y_test, pred_values2))\n",
    "values.append(metrics.accuracy_score(y_test, pred_values3))\n",
    "values.append(metrics.accuracy_score(y_test, pred_values4))\n",
    "values.append(metrics.accuracy_score(y_test, pred_values5))\n",
    "plt.xlabel('Models',fontsize=16)\n",
    "plt.ylabel('Accuracy',fontsize=16)\n",
    "plt.bar(names, values , color = 'teal') \n",
    "plt.show() "
   ]
  },
  {
   "cell_type": "code",
   "execution_count": 2,
   "metadata": {
    "colab": {
     "base_uri": "https://localhost:8080/",
     "height": 302
    },
    "executionInfo": {
     "elapsed": 423,
     "status": "ok",
     "timestamp": 1656109901044,
     "user": {
      "displayName": "Riadh Besseri",
      "userId": "06466589740049872170"
     },
     "user_tz": -60
    },
    "id": "SMzDm7ewgm3n",
    "outputId": "9a289119-bd70-4b33-99bc-71687492aba2"
   },
   "outputs": [
    {
     "data": {
      "image/png": "[encoded data removed]",
      "text/plain": [
       "<Figure size 432x288 with 1 Axes>"
      ]
     },
     "metadata": {
      "needs_background": "light"
     },
     "output_type": "display_data"
    }
   ],
   "source": [
    "import numpy as np\n",
    "import matplotlib.pyplot as plt\n",
    "  \n",
    "N = 5\n",
    "ind = np.arange(N) \n",
    "width = 0.25\n",
    "  \n",
    "xvals = [97, 99 , 73, 99, 69 ]\n",
    "bar1 = plt.bar(ind, xvals, width, color = '#98AFC7')\n",
    "  \n",
    "yvals = [97, 99, 75, 99,68]\n",
    "bar2 = plt.bar(ind+width, yvals, width, color='#36454F')\n",
    "  \n",
    "zvals = [97, 99, 71, 99,63]\n",
    "bar3 = plt.bar(ind+width*2, zvals, width, color = '#2E8B57')\n",
    "\n",
    "  \n",
    "plt.xlabel(\"Models\",fontsize=16)\n",
    "plt.ylabel('Values',fontsize=16)\n",
    "plt.title(\"Figure 02: Compare ML algorithme precision recall F_score\",fontsize=16)\n",
    "  \n",
    "plt.xticks(ind+width,['SVM', 'RF', 'NB','KNN','SGDC'])\n",
    "plt.legend( (bar1, bar2, bar3), ('Precision', 'Recall', 'F1_score') )\n",
    "plt.show()\n"
   ]
  },
  {
   "cell_type": "code",
   "execution_count": null,
   "metadata": {
    "id": "IEsM4DIuRmL2"
   },
   "outputs": [],
   "source": []
  }
 ],
 "metadata": {
  "colab": {
   "collapsed_sections": [
    "UeHLRW7Gmt_l",
    "gTxTQ5nlnAjU",
    "1rCy0XXknHSF"
   ],
   "name": "Copie de LesModèlesDapprentissageSupervisé.ipynb",
   "provenance": []
  },
  "kernelspec": {
   "display_name": "Python 3",
   "language": "python",
   "name": "python3"
  },
  "language_info": {
   "codemirror_mode": {
    "name": "ipython",
    "version": 3
   },
   "file_extension": ".py",
   "mimetype": "text/x-python",
   "name": "python",
   "nbconvert_exporter": "python",
   "pygments_lexer": "ipython3",
   "version": "3.8.5"
  }
 },
 "nbformat": 4,
 "nbformat_minor": 1
}
